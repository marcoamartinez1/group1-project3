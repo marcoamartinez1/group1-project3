import pandas as pd
import glob
from pprint import pprint as pp


folder_path = '2022_monthly'
file_pattern = f'{folder_path}/curr_mobile_upload-2022*.csv'


all_files = glob.glob(file_pattern)


print(all_files)


dataframes = []


for file in all_files:
    df = pd.read_csv(file, low_memory=False)
    dataframes.append(df)


merged_df = pd.concat(dataframes, ignore_index=True)


merged_df


pd.set_option('display.max_columns', None)

columns_list = list(merged_df.columns)
pp(columns_list)


columns_to_keep = ['bytes_total', 'bytes_sec', 
                   'cross_traffic_rx_avg_bps', 
                   'cross_traffic_rx_peak_bps', 
                   'cross_traffic_tx_avg_bps', 
                   'cross_traffic_tx_peak_bps', 
                   'beginning_network_subtype_name',
                   'beginning_telephony_cell_signal_rssi', 
                   'beginning_telephony_cell_signal_signal_level', 
                   'beginning_telephony_cell_signal_received_signal_power',
                   'beginning_telephony_cell_signal_received_signal_quality',
                   'beginning_telephony_cell_signal_signal_strength',
                   'end_telephony_cell_signal_rssi',
                   'end_telephony_cell_signal_signal_level',
                   'end_telephony_cell_signal_received_signal_power',
                   'end_telephony_cell_signal_received_signal_quality',
                   'end_telephony_cell_signal_signal_strength',
                   'beginning_telephony_cellular_operator_name',
                   'beginning_telephony_cell_strength_asu',
                   'end_telephony_cell_strength_asu',
                   'beginning_telephony_cellular_technology',
                   'end_telephony_cellular_technology',
                   'device_environment_manufacturer',
                   'device_environment_model',
                   'device_environment_operating_system_version',
                   'beginning_telephony_sim_operator_name',
                   'dtime_local_trunc', 
                   'state_abbr', 
                   'county_namelsad']

merged_df_selected = merged_df.filter(items=columns_to_keep)

merged_df_selected


null_count_A = df['end_telephony_cell_signal_rssi'].isnull().sum()
null_count_A


merged_df_selected.info()


merged_df_cleaned = merged_df_selected.dropna(subset=columns_to_keep)

merged_df_cleaned.info()


rename = {
    'bytes_total': 'Total Bytes',
    'bytes_sec': 'Bytes per Second',
    'cross_traffic_rx_avg_bps': 'Cross Traffic RX Avg (bps)',
    'cross_traffic_rx_peak_bps': 'Cross Traffic RX Peak (bps)',
    'cross_traffic_tx_avg_bps': 'Cross Traffic TX Avg (bps)',
    'cross_traffic_tx_peak_bps': 'Cross Traffic TX Peak (bps)',
    'beginning_network_subtype_name': 'Network Subtype',
    'beginning_telephony_cell_signal_rssi': 'Beginning RSSI',
    'beginning_telephony_cell_signal_signal_level': 'Beginning Signal Level',
    'beginning_telephony_cell_signal_received_signal_power': 'Beginning Signal Power',
    'beginning_telephony_cell_signal_received_signal_quality': 'Beginning Signal Quality',
    'beginning_telephony_cell_signal_signal_strength': 'Beginning Signal Strength',
    'end_telephony_cell_signal_rssi': 'End RSSI',
    'end_telephony_cell_signal_signal_level': 'End Signal Level',
    'end_telephony_cell_signal_received_signal_power': 'End Signal Power',
    'end_telephony_cell_signal_received_signal_quality': 'End Signal Quality',
    'end_telephony_cell_signal_signal_strength': 'End Signal Strength',
    'beginning_telephony_cellular_operator_name': 'Operator Name',
    'beginning_telephony_cell_strength_asu': 'Beginning Cell Strength (ASU)',
    'end_telephony_cell_strength_asu': 'End Cell Strength (ASU)',
    'beginning_telephony_cellular_technology': 'Beginning Cellular Technology',
    'end_telephony_cellular_technology': 'End Cellular Technology',
    'device_environment_manufacturer': 'Device Manufacturer',
    'device_environment_model': 'Device Model',
    'device_environment_operating_system_version': 'OS Version',
    'beginning_telephony_sim_operator_name': 'SIM Operator Name',
    'dtime_local_trunc': 'Local Time',
    'state_abbr': 'State',
    'county_namelsad': 'County'
}



final_merge = merged_df_cleaned[list(rename.keys())].rename(columns=rename)


print(final_merge.info())


final_merge.reset_index(drop=True, inplace=True)


final_merge.to_csv('F.csv', index=False)


final_merge['Average RSSI'] = final_merge[['Beginning RSSI', 'End RSSI']].mean(axis=1)



#calculate the average of Beginning Signal Power and End Signal Power
final_merge['Average Signal Power'] = final_merge[['Beginning Signal Power', 'End Signal Power']].mean(axis=1)



#calculate the average of Beginning Signal Level and End Signal Level
final_merge['Average Signal Level'] = final_merge[['Beginning Signal Level', 'End Signal Level']].mean(axis=1)



#calculate the average of Beginning Signal Level and End Signal Level
final_merge['Average Signal Quality'] = final_merge[['Beginning Signal Quality', 'End Signal Quality']].mean(axis=1)



#calculate the average of Beginning Signal Level and End Signal Level
final_merge['Average Signal Strength'] = final_merge[['Beginning Signal Strength', 'End Signal Strength']].mean(axis=1)



#calculate the average of Beginning Signal Level and End Signal Level
final_merge['Average Cell Strength (ASU)'] = final_merge[['Beginning Cell Strength (ASU)', 'End Cell Strength (ASU)']].mean(axis=1)



cleaned_df = final_merge.drop(['Beginning RSSI', 
                               'Beginning Signal Level',
                               'Beginning Signal Power',
                               'Beginning Signal Quality',
                               'Beginning Signal Strength',
                               'End RSSI',
                               'End Signal Level',
                               'End Signal Power',
                               'End Signal Power',
                               'End Signal Quality',
                               'End Signal Strength',
                               'Beginning Cell Strength (ASU)',
                               'End Cell Strength (ASU)'], axis=1)



cleaned_df


cleaned_df['Operator Name'] = cleaned_df['Operator Name'].replace(['Verizon\r', 'Verizon ', 'Verizon Wireless'], 'Verizon')

cleaned_df['Operator Name'] = cleaned_df['Operator Name'].replace(['T-Mobile ', 'T-Mobile USA'], 'T-Mobile')


verizon_df = cleaned_df[cleaned_df['Operator Name'] == 'Verizon']
average_rssi_values_verizon = verizon_df['Average RSSI']

average_rssi_values_verizon.mean()


cleaned_df.info()


operators_to_include = ['Verizon', 'AT&T', 'T-Mobile']

filtered_df = cleaned_df[cleaned_df['Operator Name'].isin(operators_to_include)]

y = filtered_df['Operator Name']
x = filtered_df['Average RSSI']
plt.figure(figsize=(15, 6))
plt.barh(y, x)
plt.xlabel('Average RSSI')
plt.ylabel('Operator Name')
plt.title('Horizontal Bar Graph for Verizon, AT&T, and T-Mobile')
plt.show()


y = filtered_df['State']
x = filtered_df['Average Signal Power']
plt.figure(figsize=(9, 12))
plt.barh(y, x)
plt.xlabel('Average Signal Power')
plt.ylabel('County')
plt.title('Horizontal Bar Graph for Verizon, AT&T, and T-Mobile')
plt.show()


operators_to_include = ['Verizon', 'AT&T', 'T-Mobile']

filtered_df = cleaned_df[cleaned_df['Operator Name'].isin(operators_to_include)]

y = filtered_df['Operator Name']
x = filtered_df['Average Signal Level']
plt.figure(figsize=(10, 6))
plt.barh(y, x)
plt.xlabel('Average RSSI')
plt.ylabel('Operator Name')
plt.title('Horizontal Bar Graph for Verizon, AT&T, and T-Mobile')
plt.show()



