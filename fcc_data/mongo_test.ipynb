{
 "cells": [
  {
   "cell_type": "code",
   "execution_count": 30,
   "id": "ade0fef8-df0f-4bfd-9ef5-8fc385cfbd48",
   "metadata": {},
   "outputs": [],
   "source": [
    "from pymongo import MongoClient"
   ]
  },
  {
   "cell_type": "code",
   "execution_count": 31,
   "id": "f2b9d956-6d82-4a17-854c-339a2545bc73",
   "metadata": {},
   "outputs": [],
   "source": [
    "# Create an instance of MongoClient\n",
    "mongo = MongoClient(port=27017)"
   ]
  },
  {
   "cell_type": "code",
   "execution_count": 32,
   "id": "8e007a32-50d6-4dca-8c6a-433ee673e879",
   "metadata": {},
   "outputs": [],
   "source": [
    "db = mongo.project_3"
   ]
  },
  {
   "cell_type": "code",
   "execution_count": 49,
   "id": "1e6fd5ef-7b50-41f0-b435-29c964450bff",
   "metadata": {},
   "outputs": [
    {
     "name": "stdout",
     "output_type": "stream",
     "text": [
      "['admin', 'config', 'epa', 'fruits_db', 'gardenDB', 'local', 'met', 'petsitly_marketing', 'project_3', 'uk_food']\n"
     ]
    }
   ],
   "source": [
    "print(mongo.list_database_names())"
   ]
  },
  {
   "cell_type": "code",
   "execution_count": 33,
   "id": "ef7f0d23-27c0-4af0-855d-6ace33036865",
   "metadata": {},
   "outputs": [],
   "source": [
    "cellular_data = db.cellular_data"
   ]
  },
  {
   "cell_type": "code",
   "execution_count": 34,
   "id": "ae89a98e-aac3-4208-8da1-dca1970d3ee2",
   "metadata": {},
   "outputs": [
    {
     "data": {
      "text/plain": [
       "<pymongo.command_cursor.CommandCursor at 0x133276d90>"
      ]
     },
     "execution_count": 34,
     "metadata": {},
     "output_type": "execute_result"
    }
   ],
   "source": [
    "mongo.list_databases()"
   ]
  },
  {
   "cell_type": "code",
   "execution_count": 36,
   "id": "74d25f80-c794-46d6-a1ac-72f8fc3d64dc",
   "metadata": {},
   "outputs": [
    {
     "name": "stdout",
     "output_type": "stream",
     "text": [
      "{'_id': ObjectId('6673aeeb163fd6cef5baa144'), 'Total Bytes': 2955648.0, 'Bytes per Second': 591122.0, 'Cross Traffic RX Avg (bps)': 5.0, 'Cross Traffic RX Peak (bps)': 52.0, 'Cross Traffic TX Avg (bps)': 0.0, 'Cross Traffic TX Peak (bps)': 0.0, 'Operator Name': 'Verizon', 'Beginning Cellular Technology': '4g', 'End Cellular Technology': '4g', 'Device Manufacturer': 'Samsung', 'OS Version': 'Android 12', 'State': 'ID', 'County': 'Latah County', 'Average RSSI': -75.0, 'Average Signal Power': -106.0, 'Average Signal Level': 1.0, 'Average Signal Quality': -12.0, 'Average Signal Strength': -106.0, 'Average Cell Strength (ASU)': 33.0}\n"
     ]
    }
   ],
   "source": [
    "print(db.cellular_data.find_one())"
   ]
  },
  {
   "cell_type": "code",
   "execution_count": 37,
   "id": "2b32ee61-b5b1-4ecc-a4af-20650882d6e3",
   "metadata": {},
   "outputs": [
    {
     "name": "stdout",
     "output_type": "stream",
     "text": [
      "{'_id': ObjectId('6673aeeb163fd6cef5baa144'), 'Total Bytes': 2955648.0, 'Bytes per Second': 591122.0, 'Cross Traffic RX Avg (bps)': 5.0, 'Cross Traffic RX Peak (bps)': 52.0, 'Cross Traffic TX Avg (bps)': 0.0, 'Cross Traffic TX Peak (bps)': 0.0, 'Operator Name': 'Verizon', 'Beginning Cellular Technology': '4g', 'End Cellular Technology': '4g', 'Device Manufacturer': 'Samsung', 'OS Version': 'Android 12', 'State': 'ID', 'County': 'Latah County', 'Average RSSI': -75.0, 'Average Signal Power': -106.0, 'Average Signal Level': 1.0, 'Average Signal Quality': -12.0, 'Average Signal Strength': -106.0, 'Average Cell Strength (ASU)': 33.0}\n",
      "{'_id': ObjectId('6673aeeb163fd6cef5baa146'), 'Total Bytes': 417520.0, 'Bytes per Second': 83497.0, 'Cross Traffic RX Avg (bps)': 14822.0, 'Cross Traffic RX Peak (bps)': 24830.0, 'Cross Traffic TX Avg (bps)': 201332.0, 'Cross Traffic TX Peak (bps)': 434832.0, 'Operator Name': 'Verizon', 'Beginning Cellular Technology': '4g', 'End Cellular Technology': '4g', 'Device Manufacturer': 'OnePlus', 'OS Version': 'Android 11', 'State': 'MT', 'County': 'Dawson County', 'Average RSSI': -77.0, 'Average Signal Power': -108.5, 'Average Signal Level': 2.0, 'Average Signal Quality': -11.0, 'Average Signal Strength': -108.5, 'Average Cell Strength (ASU)': 31.0}\n",
      "{'_id': ObjectId('6673aeeb163fd6cef5baa14a'), 'Total Bytes': 892598.0, 'Bytes per Second': 178518.0, 'Cross Traffic RX Avg (bps)': 370.0, 'Cross Traffic RX Peak (bps)': 2151.0, 'Cross Traffic TX Avg (bps)': 287.0, 'Cross Traffic TX Peak (bps)': 1181.0, 'Operator Name': 'Verizon', 'Beginning Cellular Technology': '4g', 'End Cellular Technology': '4g', 'Device Manufacturer': 'Google', 'OS Version': 'Android 11', 'State': 'IL', 'County': 'Cook County', 'Average RSSI': -71.0, 'Average Signal Power': -101.0, 'Average Signal Level': 2.0, 'Average Signal Quality': -11.5, 'Average Signal Strength': -101.0, 'Average Cell Strength (ASU)': 37.0}\n",
      "{'_id': ObjectId('6673aeeb163fd6cef5baa14b'), 'Total Bytes': 488480.0, 'Bytes per Second': 97695.0, 'Cross Traffic RX Avg (bps)': 35181.0, 'Cross Traffic RX Peak (bps)': 220982.0, 'Cross Traffic TX Avg (bps)': 6734.0, 'Cross Traffic TX Peak (bps)': 21069.0, 'Operator Name': 'Verizon', 'Beginning Cellular Technology': '4g', 'End Cellular Technology': '4g', 'Device Manufacturer': 'Samsung', 'OS Version': 'Android 10', 'State': 'WI', 'County': 'Price County', 'Average RSSI': -83.0, 'Average Signal Power': -116.0, 'Average Signal Level': 0.0, 'Average Signal Quality': -12.5, 'Average Signal Strength': -116.0, 'Average Cell Strength (ASU)': 23.0}\n",
      "{'_id': ObjectId('6673aeeb163fd6cef5baa14c'), 'Total Bytes': 160992.0, 'Bytes per Second': 32198.0, 'Cross Traffic RX Avg (bps)': 0.0, 'Cross Traffic RX Peak (bps)': 0.0, 'Cross Traffic TX Avg (bps)': 0.0, 'Cross Traffic TX Peak (bps)': 0.0, 'Operator Name': 'Verizon', 'Beginning Cellular Technology': '4g', 'End Cellular Technology': '4g', 'Device Manufacturer': 'Google', 'OS Version': 'Android 11', 'State': 'IN', 'County': 'St. Joseph County', 'Average RSSI': -85.0, 'Average Signal Power': -112.5, 'Average Signal Level': 1.0, 'Average Signal Quality': -10.0, 'Average Signal Strength': -112.5, 'Average Cell Strength (ASU)': 28.0}\n",
      "{'_id': ObjectId('6673aeeb163fd6cef5baa14e'), 'Total Bytes': 15300800.0, 'Bytes per Second': 3060110.0, 'Cross Traffic RX Avg (bps)': 0.0, 'Cross Traffic RX Peak (bps)': 0.0, 'Cross Traffic TX Avg (bps)': 62.0, 'Cross Traffic TX Peak (bps)': 280.0, 'Operator Name': 'Verizon', 'Beginning Cellular Technology': '4g', 'End Cellular Technology': '4g', 'Device Manufacturer': 'Motorola', 'OS Version': 'Android 11', 'State': 'CA', 'County': 'San Luis Obispo County', 'Average RSSI': -67.0, 'Average Signal Power': -101.0, 'Average Signal Level': 2.0, 'Average Signal Quality': -8.0, 'Average Signal Strength': -101.0, 'Average Cell Strength (ASU)': 29.0}\n",
      "{'_id': ObjectId('6673aeeb163fd6cef5baa14f'), 'Total Bytes': 30185312.0, 'Bytes per Second': 6036999.0, 'Cross Traffic RX Avg (bps)': 0.0, 'Cross Traffic RX Peak (bps)': 0.0, 'Cross Traffic TX Avg (bps)': 8037.0, 'Cross Traffic TX Peak (bps)': 71348.0, 'Operator Name': 'Verizon', 'Beginning Cellular Technology': '4g', 'End Cellular Technology': '4g', 'Device Manufacturer': 'Samsung', 'OS Version': 'Android 12', 'State': 'IL', 'County': 'Kane County', 'Average RSSI': -51.0, 'Average Signal Power': -75.0, 'Average Signal Level': 4.0, 'Average Signal Quality': -7.0, 'Average Signal Strength': -75.0, 'Average Cell Strength (ASU)': 67.0}\n",
      "{'_id': ObjectId('6673aeeb163fd6cef5baa150'), 'Total Bytes': 350880.0, 'Bytes per Second': 70175.0, 'Cross Traffic RX Avg (bps)': 5.0, 'Cross Traffic RX Peak (bps)': 52.0, 'Cross Traffic TX Avg (bps)': 339.0, 'Cross Traffic TX Peak (bps)': 2856.0, 'Operator Name': 'Verizon', 'Beginning Cellular Technology': '4g', 'End Cellular Technology': '4g', 'Device Manufacturer': 'Samsung', 'OS Version': 'Android 12', 'State': 'MI', 'County': 'Monroe County', 'Average RSSI': -74.0, 'Average Signal Power': -112.0, 'Average Signal Level': 1.0, 'Average Signal Quality': -20.0, 'Average Signal Strength': -112.0, 'Average Cell Strength (ASU)': 27.0}\n",
      "{'_id': ObjectId('6673aeeb163fd6cef5baa157'), 'Total Bytes': 178880.0, 'Bytes per Second': 35775.0, 'Cross Traffic RX Avg (bps)': 8.0, 'Cross Traffic RX Peak (bps)': 80.0, 'Cross Traffic TX Avg (bps)': 111.0, 'Cross Traffic TX Peak (bps)': 1114.0, 'Operator Name': 'Verizon', 'Beginning Cellular Technology': '4g', 'End Cellular Technology': '4g', 'Device Manufacturer': 'Samsung', 'OS Version': 'Android 12', 'State': 'IL', 'County': 'McLean County', 'Average RSSI': -81.0, 'Average Signal Power': -107.5, 'Average Signal Level': 1.0, 'Average Signal Quality': -10.0, 'Average Signal Strength': -107.5, 'Average Cell Strength (ASU)': 32.0}\n",
      "{'_id': ObjectId('6673aeeb163fd6cef5baa161'), 'Total Bytes': 979712.0, 'Bytes per Second': 195939.0, 'Cross Traffic RX Avg (bps)': 293.0, 'Cross Traffic RX Peak (bps)': 1376.0, 'Cross Traffic TX Avg (bps)': 1263.0, 'Cross Traffic TX Peak (bps)': 5712.0, 'Operator Name': 'Verizon', 'Beginning Cellular Technology': '4g', 'End Cellular Technology': '4g', 'Device Manufacturer': 'Samsung', 'OS Version': 'Android 12', 'State': 'FL', 'County': 'Seminole County', 'Average RSSI': -70.0, 'Average Signal Power': -107.0, 'Average Signal Level': 1.5, 'Average Signal Quality': -11.5, 'Average Signal Strength': -107.0, 'Average Cell Strength (ASU)': 33.5}\n",
      "{'_id': ObjectId('6673aeeb163fd6cef5baa162'), 'Total Bytes': 8857138.0, 'Bytes per Second': 1771399.0, 'Cross Traffic RX Avg (bps)': 29053.0, 'Cross Traffic RX Peak (bps)': 162177.0, 'Cross Traffic TX Avg (bps)': 4597.0, 'Cross Traffic TX Peak (bps)': 15349.0, 'Operator Name': 'Verizon', 'Beginning Cellular Technology': '4g', 'End Cellular Technology': '4g', 'Device Manufacturer': 'Motorola', 'OS Version': 'Android 10', 'State': 'SC', 'County': 'York County', 'Average RSSI': -75.0, 'Average Signal Power': -105.0, 'Average Signal Level': 2.0, 'Average Signal Quality': -11.0, 'Average Signal Strength': -105.0, 'Average Cell Strength (ASU)': 52.0}\n",
      "{'_id': ObjectId('6673aeeb163fd6cef5baa167'), 'Total Bytes': 13586624.0, 'Bytes per Second': 2717305.0, 'Cross Traffic RX Avg (bps)': 3926.0, 'Cross Traffic RX Peak (bps)': 13546.0, 'Cross Traffic TX Avg (bps)': 1347.0, 'Cross Traffic TX Peak (bps)': 2802.0, 'Operator Name': 'Verizon', 'Beginning Cellular Technology': '4g', 'End Cellular Technology': '4g', 'Device Manufacturer': 'Google', 'OS Version': 'Android 12', 'State': 'PA', 'County': 'Luzerne County', 'Average RSSI': -51.0, 'Average Signal Power': -76.0, 'Average Signal Level': 4.0, 'Average Signal Quality': -9.0, 'Average Signal Strength': -76.0, 'Average Cell Strength (ASU)': 62.0}\n",
      "{'_id': ObjectId('6673aeeb163fd6cef5baa168'), 'Total Bytes': 47694912.0, 'Bytes per Second': 9538923.0, 'Cross Traffic RX Avg (bps)': 481.0, 'Cross Traffic RX Peak (bps)': 4227.0, 'Cross Traffic TX Avg (bps)': 46.0, 'Cross Traffic TX Peak (bps)': 466.0, 'Operator Name': 'Verizon', 'Beginning Cellular Technology': '4g', 'End Cellular Technology': '4g', 'Device Manufacturer': 'Samsung', 'OS Version': 'Android 12', 'State': 'IL', 'County': 'Cook County', 'Average RSSI': -51.0, 'Average Signal Power': -58.5, 'Average Signal Level': 4.0, 'Average Signal Quality': -11.0, 'Average Signal Strength': -58.5, 'Average Cell Strength (ASU)': 80.5}\n",
      "{'_id': ObjectId('6673aeeb163fd6cef5baa169'), 'Total Bytes': 45932256.0, 'Bytes per Second': 9186383.0, 'Cross Traffic RX Avg (bps)': 6.0, 'Cross Traffic RX Peak (bps)': 52.0, 'Cross Traffic TX Avg (bps)': 0.0, 'Cross Traffic TX Peak (bps)': 0.0, 'Operator Name': 'Verizon', 'Beginning Cellular Technology': '4g', 'End Cellular Technology': '4g', 'Device Manufacturer': 'Samsung', 'OS Version': 'Android 12', 'State': 'IL', 'County': 'Cook County', 'Average RSSI': -55.0, 'Average Signal Power': -83.5, 'Average Signal Level': 3.5, 'Average Signal Quality': -10.0, 'Average Signal Strength': -83.5, 'Average Cell Strength (ASU)': 57.0}\n",
      "{'_id': ObjectId('6673aeeb163fd6cef5baa170'), 'Total Bytes': 1426912.0, 'Bytes per Second': 285375.0, 'Cross Traffic RX Avg (bps)': 803.0, 'Cross Traffic RX Peak (bps)': 5746.0, 'Cross Traffic TX Avg (bps)': 844.0, 'Cross Traffic TX Peak (bps)': 3076.0, 'Operator Name': 'Verizon', 'Beginning Cellular Technology': '4g', 'End Cellular Technology': '4g', 'Device Manufacturer': 'Samsung', 'OS Version': 'Android 12', 'State': 'MI', 'County': 'Barry County', 'Average RSSI': -67.0, 'Average Signal Power': -100.0, 'Average Signal Level': 2.0, 'Average Signal Quality': -15.0, 'Average Signal Strength': -100.0, 'Average Cell Strength (ASU)': 39.0}\n",
      "{'_id': ObjectId('6673aeeb163fd6cef5baa171'), 'Total Bytes': 25764224.0, 'Bytes per Second': 5152765.0, 'Cross Traffic RX Avg (bps)': 814.0, 'Cross Traffic RX Peak (bps)': 3728.0, 'Cross Traffic TX Avg (bps)': 1525.0, 'Cross Traffic TX Peak (bps)': 9266.0, 'Operator Name': 'Verizon', 'Beginning Cellular Technology': '4g', 'End Cellular Technology': '4g', 'Device Manufacturer': 'Google', 'OS Version': 'Android 12', 'State': 'CA', 'County': 'Sacramento County', 'Average RSSI': -76.0, 'Average Signal Power': -111.0, 'Average Signal Level': 1.0, 'Average Signal Quality': -14.0, 'Average Signal Strength': -111.0, 'Average Cell Strength (ASU)': 28.5}\n",
      "{'_id': ObjectId('6673aeeb163fd6cef5baa173'), 'Total Bytes': 16675744.0, 'Bytes per Second': 3335130.0, 'Cross Traffic RX Avg (bps)': 4228.0, 'Cross Traffic RX Peak (bps)': 17764.0, 'Cross Traffic TX Avg (bps)': 79881.0, 'Cross Traffic TX Peak (bps)': 130644.0, 'Operator Name': 'Verizon', 'Beginning Cellular Technology': '4g', 'End Cellular Technology': '4g', 'Device Manufacturer': 'Samsung', 'OS Version': 'Android 10', 'State': 'WI', 'County': 'Racine County', 'Average RSSI': -69.0, 'Average Signal Power': -98.5, 'Average Signal Level': 2.0, 'Average Signal Quality': -8.0, 'Average Signal Strength': -98.5, 'Average Cell Strength (ASU)': 40.0}\n",
      "{'_id': ObjectId('6673aeeb163fd6cef5baa177'), 'Total Bytes': 35041216.0, 'Bytes per Second': 7008159.0, 'Cross Traffic RX Avg (bps)': 11.0, 'Cross Traffic RX Peak (bps)': 104.0, 'Cross Traffic TX Avg (bps)': 0.0, 'Cross Traffic TX Peak (bps)': 0.0, 'Operator Name': 'Verizon', 'Beginning Cellular Technology': '4g', 'End Cellular Technology': '4g', 'Device Manufacturer': 'Samsung', 'OS Version': 'Android 12', 'State': 'IL', 'County': 'Cook County', 'Average RSSI': -51.0, 'Average Signal Power': -70.0, 'Average Signal Level': 4.0, 'Average Signal Quality': -10.5, 'Average Signal Strength': -70.0, 'Average Cell Strength (ASU)': 72.0}\n",
      "{'_id': ObjectId('6673aeeb163fd6cef5baa17c'), 'Total Bytes': 1669088.0, 'Bytes per Second': 333813.0, 'Cross Traffic RX Avg (bps)': 45.0, 'Cross Traffic RX Peak (bps)': 260.0, 'Cross Traffic TX Avg (bps)': 26.0, 'Cross Traffic TX Peak (bps)': 200.0, 'Operator Name': 'Verizon', 'Beginning Cellular Technology': '5g', 'End Cellular Technology': '5g', 'Device Manufacturer': 'LGE', 'OS Version': 'Android 11', 'State': 'OH', 'County': 'Summit County', 'Average RSSI': -73.0, 'Average Signal Power': -107.0, 'Average Signal Level': 1.0, 'Average Signal Quality': -13.0, 'Average Signal Strength': -107.0, 'Average Cell Strength (ASU)': 29.0}\n",
      "{'_id': ObjectId('6673aeeb163fd6cef5baa181'), 'Total Bytes': 29742240.0, 'Bytes per Second': 5948401.0, 'Cross Traffic RX Avg (bps)': 6.0, 'Cross Traffic RX Peak (bps)': 52.0, 'Cross Traffic TX Avg (bps)': 8198.0, 'Cross Traffic TX Peak (bps)': 65584.0, 'Operator Name': 'Verizon', 'Beginning Cellular Technology': '4g', 'End Cellular Technology': '4g', 'Device Manufacturer': 'Samsung', 'OS Version': 'Android 12', 'State': 'IL', 'County': 'Cook County', 'Average RSSI': -51.0, 'Average Signal Power': -78.5, 'Average Signal Level': 4.0, 'Average Signal Quality': -11.5, 'Average Signal Strength': -78.5, 'Average Cell Strength (ASU)': 60.0}\n",
      "{'_id': ObjectId('6673aeeb163fd6cef5baa186'), 'Total Bytes': 17790304.0, 'Bytes per Second': 3558019.0, 'Cross Traffic RX Avg (bps)': 35.0, 'Cross Traffic RX Peak (bps)': 208.0, 'Cross Traffic TX Avg (bps)': 16016.0, 'Cross Traffic TX Peak (bps)': 144020.0, 'Operator Name': 'Verizon', 'Beginning Cellular Technology': '4g', 'End Cellular Technology': '4g', 'Device Manufacturer': 'LGE', 'OS Version': 'Android 11', 'State': 'WA', 'County': 'Whatcom County', 'Average RSSI': -58.0, 'Average Signal Power': -93.0, 'Average Signal Level': 3.0, 'Average Signal Quality': -12.0, 'Average Signal Strength': -93.0, 'Average Cell Strength (ASU)': 46.0}\n",
      "{'_id': ObjectId('6673aeeb163fd6cef5baa187'), 'Total Bytes': 4883217.0, 'Bytes per Second': 976629.0, 'Cross Traffic RX Avg (bps)': 3569.0, 'Cross Traffic RX Peak (bps)': 16349.0, 'Cross Traffic TX Avg (bps)': 24061.0, 'Cross Traffic TX Peak (bps)': 107711.0, 'Operator Name': 'Verizon', 'Beginning Cellular Technology': '4g', 'End Cellular Technology': '4g', 'Device Manufacturer': 'Motorola', 'OS Version': 'Android 10', 'State': 'SC', 'County': 'York County', 'Average RSSI': -53.0, 'Average Signal Power': -86.0, 'Average Signal Level': 3.5, 'Average Signal Quality': -14.0, 'Average Signal Strength': -86.0, 'Average Cell Strength (ASU)': 59.0}\n",
      "{'_id': ObjectId('6673aeeb163fd6cef5baa188'), 'Total Bytes': 2048.0, 'Bytes per Second': 409.0, 'Cross Traffic RX Avg (bps)': 2230.0, 'Cross Traffic RX Peak (bps)': 10587.0, 'Cross Traffic TX Avg (bps)': 1496.0, 'Cross Traffic TX Peak (bps)': 4076.0, 'Operator Name': 'Verizon', 'Beginning Cellular Technology': '4g', 'End Cellular Technology': '4g', 'Device Manufacturer': 'Motorola', 'OS Version': 'Android 11', 'State': 'TX', 'County': 'Travis County', 'Average RSSI': -71.0, 'Average Signal Power': -106.5, 'Average Signal Level': 1.0, 'Average Signal Quality': -17.0, 'Average Signal Strength': -106.5, 'Average Cell Strength (ASU)': 34.0}\n",
      "{'_id': ObjectId('6673aeeb163fd6cef5baa189'), 'Total Bytes': 30976512.0, 'Bytes per Second': 6195230.0, 'Cross Traffic RX Avg (bps)': 102.0, 'Cross Traffic RX Peak (bps)': 288.0, 'Cross Traffic TX Avg (bps)': 1119.0, 'Cross Traffic TX Peak (bps)': 9996.0, 'Operator Name': 'Verizon', 'Beginning Cellular Technology': '4g', 'End Cellular Technology': '4g', 'Device Manufacturer': 'Samsung', 'OS Version': 'Android 12', 'State': 'IL', 'County': 'DuPage County', 'Average RSSI': -55.0, 'Average Signal Power': -90.0, 'Average Signal Level': 3.0, 'Average Signal Quality': -12.0, 'Average Signal Strength': -90.0, 'Average Cell Strength (ASU)': 50.0}\n",
      "{'_id': ObjectId('6673aeeb163fd6cef5baa18c'), 'Total Bytes': 11841856.0, 'Bytes per Second': 2368348.0, 'Cross Traffic RX Avg (bps)': 1627.0, 'Cross Traffic RX Peak (bps)': 6046.0, 'Cross Traffic TX Avg (bps)': 4405.0, 'Cross Traffic TX Peak (bps)': 26337.0, 'Operator Name': 'Verizon', 'Beginning Cellular Technology': '4g', 'End Cellular Technology': '4g', 'Device Manufacturer': 'Samsung', 'OS Version': 'Android 12', 'State': 'ID', 'County': 'Kootenai County', 'Average RSSI': -51.0, 'Average Signal Power': -78.0, 'Average Signal Level': 4.0, 'Average Signal Quality': -11.0, 'Average Signal Strength': -78.0, 'Average Cell Strength (ASU)': 61.0}\n",
      "{'_id': ObjectId('6673aeeb163fd6cef5baa191'), 'Total Bytes': 3556960.0, 'Bytes per Second': 711384.0, 'Cross Traffic RX Avg (bps)': 255.0, 'Cross Traffic RX Peak (bps)': 1308.0, 'Cross Traffic TX Avg (bps)': 216.0, 'Cross Traffic TX Peak (bps)': 696.0, 'Operator Name': 'Verizon', 'Beginning Cellular Technology': '4g', 'End Cellular Technology': '4g', 'Device Manufacturer': 'Samsung', 'OS Version': 'Android 12', 'State': 'CO', 'County': 'Boulder County', 'Average RSSI': -65.0, 'Average Signal Power': -94.0, 'Average Signal Level': 3.0, 'Average Signal Quality': -12.0, 'Average Signal Strength': -94.0, 'Average Cell Strength (ASU)': 42.5}\n",
      "{'_id': ObjectId('6673aeeb163fd6cef5baa194'), 'Total Bytes': 9359552.0, 'Bytes per Second': 1871802.0, 'Cross Traffic RX Avg (bps)': 491.0, 'Cross Traffic RX Peak (bps)': 1282.0, 'Cross Traffic TX Avg (bps)': 1556.0, 'Cross Traffic TX Peak (bps)': 4386.0, 'Operator Name': 'Verizon', 'Beginning Cellular Technology': '4g', 'End Cellular Technology': '4g', 'Device Manufacturer': 'Samsung', 'OS Version': 'Android 11', 'State': 'IL', 'County': 'Sangamon County', 'Average RSSI': -57.0, 'Average Signal Power': -85.0, 'Average Signal Level': 4.0, 'Average Signal Quality': -8.5, 'Average Signal Strength': -85.0, 'Average Cell Strength (ASU)': 49.0}\n",
      "{'_id': ObjectId('6673aeeb163fd6cef5baa197'), 'Total Bytes': 15136.0, 'Bytes per Second': 3027.0, 'Cross Traffic RX Avg (bps)': 28.0, 'Cross Traffic RX Peak (bps)': 84.0, 'Cross Traffic TX Avg (bps)': 84.0, 'Cross Traffic TX Peak (bps)': 84.0, 'Operator Name': 'Verizon', 'Beginning Cellular Technology': '4g', 'End Cellular Technology': '4g', 'Device Manufacturer': 'Google', 'OS Version': 'Android 12', 'State': 'IL', 'County': 'Cook County', 'Average RSSI': -86.0, 'Average Signal Power': -120.0, 'Average Signal Level': 0.0, 'Average Signal Quality': -17.0, 'Average Signal Strength': -120.0, 'Average Cell Strength (ASU)': 21.0}\n",
      "{'_id': ObjectId('6673aeeb163fd6cef5baa199'), 'Total Bytes': 14505792.0, 'Bytes per Second': 2901101.0, 'Cross Traffic RX Avg (bps)': 91.0, 'Cross Traffic RX Peak (bps)': 312.0, 'Cross Traffic TX Avg (bps)': 6200.0, 'Cross Traffic TX Peak (bps)': 11500.0, 'Operator Name': 'Verizon', 'Beginning Cellular Technology': '4g', 'End Cellular Technology': '4g', 'Device Manufacturer': 'LGE', 'OS Version': 'Android 11', 'State': 'NC', 'County': 'Wake County', 'Average RSSI': -77.0, 'Average Signal Power': -72.5, 'Average Signal Level': 4.0, 'Average Signal Quality': -10.5, 'Average Signal Strength': -72.5, 'Average Cell Strength (ASU)': 58.0}\n",
      "{'_id': ObjectId('6673aeeb163fd6cef5baa19e'), 'Total Bytes': 18973664.0, 'Bytes per Second': 3794681.0, 'Cross Traffic RX Avg (bps)': 34.0, 'Cross Traffic RX Peak (bps)': 156.0, 'Cross Traffic TX Avg (bps)': 2652.0, 'Cross Traffic TX Peak (bps)': 8568.0, 'Operator Name': 'Verizon', 'Beginning Cellular Technology': '4g', 'End Cellular Technology': '4g', 'Device Manufacturer': 'Google', 'OS Version': 'Android 12', 'State': 'IN', 'County': 'LaPorte County', 'Average RSSI': -77.0, 'Average Signal Power': -113.0, 'Average Signal Level': 1.0, 'Average Signal Quality': -10.0, 'Average Signal Strength': -113.0, 'Average Cell Strength (ASU)': 33.5}\n",
      "{'_id': ObjectId('6673aeeb163fd6cef5baa1a0'), 'Total Bytes': 0.0, 'Bytes per Second': 0.0, 'Cross Traffic RX Avg (bps)': 0.0, 'Cross Traffic RX Peak (bps)': 0.0, 'Cross Traffic TX Avg (bps)': 10.0, 'Cross Traffic TX Peak (bps)': 40.0, 'Operator Name': 'Verizon', 'Beginning Cellular Technology': '4g', 'End Cellular Technology': '4g', 'Device Manufacturer': 'Samsung', 'OS Version': 'Android 12', 'State': 'IL', 'County': 'Cook County', 'Average RSSI': -76.0, 'Average Signal Power': -110.5, 'Average Signal Level': 1.0, 'Average Signal Quality': -16.0, 'Average Signal Strength': -110.5, 'Average Cell Strength (ASU)': 30.0}\n",
      "{'_id': ObjectId('6673aeeb163fd6cef5baa1a1'), 'Total Bytes': 14159040.0, 'Bytes per Second': 2831789.0, 'Cross Traffic RX Avg (bps)': 6.0, 'Cross Traffic RX Peak (bps)': 52.0, 'Cross Traffic TX Avg (bps)': 0.0, 'Cross Traffic TX Peak (bps)': 0.0, 'Operator Name': 'Verizon', 'Beginning Cellular Technology': '4g', 'End Cellular Technology': '4g', 'Device Manufacturer': 'Samsung', 'OS Version': 'Android 12', 'State': 'IL', 'County': 'Cook County', 'Average RSSI': -57.0, 'Average Signal Power': -87.0, 'Average Signal Level': 3.0, 'Average Signal Quality': -10.0, 'Average Signal Strength': -87.0, 'Average Cell Strength (ASU)': 43.0}\n",
      "{'_id': ObjectId('6673aeeb163fd6cef5baa1a2'), 'Total Bytes': 7521696.0, 'Bytes per Second': 1504311.0, 'Cross Traffic RX Avg (bps)': 0.0, 'Cross Traffic RX Peak (bps)': 0.0, 'Cross Traffic TX Avg (bps)': 751.0, 'Cross Traffic TX Peak (bps)': 5772.0, 'Operator Name': 'Verizon', 'Beginning Cellular Technology': '4g', 'End Cellular Technology': '4g', 'Device Manufacturer': 'Google', 'OS Version': 'Android 12', 'State': 'LA', 'County': 'Plaquemines Parish', 'Average RSSI': -60.0, 'Average Signal Power': -97.5, 'Average Signal Level': 2.0, 'Average Signal Quality': -15.5, 'Average Signal Strength': -97.5, 'Average Cell Strength (ASU)': 42.0}\n",
      "{'_id': ObjectId('6673aeeb163fd6cef5baa1a5'), 'Total Bytes': 10342016.0, 'Bytes per Second': 2068391.0, 'Cross Traffic RX Avg (bps)': 39.0, 'Cross Traffic RX Peak (bps)': 312.0, 'Cross Traffic TX Avg (bps)': 0.0, 'Cross Traffic TX Peak (bps)': 0.0, 'Operator Name': 'Verizon', 'Beginning Cellular Technology': '4g', 'End Cellular Technology': '4g', 'Device Manufacturer': 'Google', 'OS Version': 'Android 11', 'State': 'IN', 'County': 'LaPorte County', 'Average RSSI': -65.0, 'Average Signal Power': -93.0, 'Average Signal Level': 3.0, 'Average Signal Quality': -10.0, 'Average Signal Strength': -93.0, 'Average Cell Strength (ASU)': 44.0}\n",
      "{'_id': ObjectId('6673aeeb163fd6cef5baa1a8'), 'Total Bytes': 100696.0, 'Bytes per Second': 20138.0, 'Cross Traffic RX Avg (bps)': 4309.0, 'Cross Traffic RX Peak (bps)': 14481.0, 'Cross Traffic TX Avg (bps)': 28732.0, 'Cross Traffic TX Peak (bps)': 77525.0, 'Operator Name': 'Verizon', 'Beginning Cellular Technology': '4g', 'End Cellular Technology': '4g', 'Device Manufacturer': 'Samsung', 'OS Version': 'Android 12', 'State': 'NJ', 'County': 'Middlesex County', 'Average RSSI': -78.0, 'Average Signal Power': -110.0, 'Average Signal Level': 1.0, 'Average Signal Quality': -11.5, 'Average Signal Strength': -110.0, 'Average Cell Strength (ASU)': 27.5}\n",
      "{'_id': ObjectId('6673aeeb163fd6cef5baa1aa'), 'Total Bytes': 15396064.0, 'Bytes per Second': 3079183.0, 'Cross Traffic RX Avg (bps)': 483.0, 'Cross Traffic RX Peak (bps)': 1591.0, 'Cross Traffic TX Avg (bps)': 339.0, 'Cross Traffic TX Peak (bps)': 1453.0, 'Operator Name': 'Verizon', 'Beginning Cellular Technology': '4g', 'End Cellular Technology': '4g', 'Device Manufacturer': 'Google', 'OS Version': 'Android 12', 'State': 'IN', 'County': 'Lake County', 'Average RSSI': -65.0, 'Average Signal Power': -95.0, 'Average Signal Level': 3.0, 'Average Signal Quality': -12.0, 'Average Signal Strength': -95.0, 'Average Cell Strength (ASU)': 44.5}\n",
      "{'_id': ObjectId('6673aeeb163fd6cef5baa1b2'), 'Total Bytes': 31998880.0, 'Bytes per Second': 6399720.0, 'Cross Traffic RX Avg (bps)': 15.0, 'Cross Traffic RX Peak (bps)': 72.0, 'Cross Traffic TX Avg (bps)': 8.0, 'Cross Traffic TX Peak (bps)': 72.0, 'Operator Name': 'Verizon', 'Beginning Cellular Technology': '4g', 'End Cellular Technology': '4g', 'Device Manufacturer': 'Samsung', 'OS Version': 'Android 12', 'State': 'IL', 'County': 'Cook County', 'Average RSSI': -51.0, 'Average Signal Power': -76.0, 'Average Signal Level': 4.0, 'Average Signal Quality': -11.5, 'Average Signal Strength': -76.0, 'Average Cell Strength (ASU)': 64.0}\n",
      "{'_id': ObjectId('6673aeeb163fd6cef5baa1b5'), 'Total Bytes': 19972640.0, 'Bytes per Second': 3994449.0, 'Cross Traffic RX Avg (bps)': 46.0, 'Cross Traffic RX Peak (bps)': 312.0, 'Cross Traffic TX Avg (bps)': 0.0, 'Cross Traffic TX Peak (bps)': 0.0, 'Operator Name': 'Verizon', 'Beginning Cellular Technology': '4g', 'End Cellular Technology': '4g', 'Device Manufacturer': 'Google', 'OS Version': 'Android 12', 'State': 'IN', 'County': 'Lake County', 'Average RSSI': -64.0, 'Average Signal Power': -97.0, 'Average Signal Level': 2.0, 'Average Signal Quality': -12.0, 'Average Signal Strength': -97.0, 'Average Cell Strength (ASU)': 43.0}\n",
      "{'_id': ObjectId('6673aeeb163fd6cef5baa1b7'), 'Total Bytes': 6657088.0, 'Bytes per Second': 1331375.0, 'Cross Traffic RX Avg (bps)': 584.0, 'Cross Traffic RX Peak (bps)': 4912.0, 'Cross Traffic TX Avg (bps)': 149.0, 'Cross Traffic TX Peak (bps)': 1123.0, 'Operator Name': 'Verizon', 'Beginning Cellular Technology': '4g', 'End Cellular Technology': '4g', 'Device Manufacturer': 'Samsung', 'OS Version': 'Android 12', 'State': 'NJ', 'County': 'Hudson County', 'Average RSSI': -67.0, 'Average Signal Power': -99.0, 'Average Signal Level': 2.0, 'Average Signal Quality': -11.0, 'Average Signal Strength': -99.0, 'Average Cell Strength (ASU)': 40.0}\n",
      "{'_id': ObjectId('6673aeeb163fd6cef5baa1bd'), 'Total Bytes': 2932256.0, 'Bytes per Second': 586437.0, 'Cross Traffic RX Avg (bps)': 91.0, 'Cross Traffic RX Peak (bps)': 572.0, 'Cross Traffic TX Avg (bps)': 10171.0, 'Cross Traffic TX Peak (bps)': 75760.0, 'Operator Name': 'Verizon', 'Beginning Cellular Technology': '4g', 'End Cellular Technology': '4g', 'Device Manufacturer': 'Samsung', 'OS Version': 'Android 10', 'State': 'IA', 'County': 'Polk County', 'Average RSSI': -73.0, 'Average Signal Power': -106.5, 'Average Signal Level': 1.0, 'Average Signal Quality': -12.5, 'Average Signal Strength': -106.5, 'Average Cell Strength (ASU)': 33.0}\n",
      "{'_id': ObjectId('6673aeeb163fd6cef5baa1be'), 'Total Bytes': 40824544.0, 'Bytes per Second': 8164859.0, 'Cross Traffic RX Avg (bps)': 66.0, 'Cross Traffic RX Peak (bps)': 136.0, 'Cross Traffic TX Avg (bps)': 42.0, 'Cross Traffic TX Peak (bps)': 84.0, 'Operator Name': 'Verizon', 'Beginning Cellular Technology': '4g', 'End Cellular Technology': '4g', 'Device Manufacturer': 'Samsung', 'OS Version': 'Android 12', 'State': 'IL', 'County': 'Cook County', 'Average RSSI': -51.0, 'Average Signal Power': -62.5, 'Average Signal Level': 4.0, 'Average Signal Quality': -9.5, 'Average Signal Strength': -62.5, 'Average Cell Strength (ASU)': 75.5}\n",
      "{'_id': ObjectId('6673aeeb163fd6cef5baa1c7'), 'Total Bytes': 1304448.0, 'Bytes per Second': 260884.0, 'Cross Traffic RX Avg (bps)': 96.0, 'Cross Traffic RX Peak (bps)': 683.0, 'Cross Traffic TX Avg (bps)': 1396.0, 'Cross Traffic TX Peak (bps)': 5712.0, 'Operator Name': 'Verizon', 'Beginning Cellular Technology': '4g', 'End Cellular Technology': '4g', 'Device Manufacturer': 'Samsung', 'OS Version': 'Android 11', 'State': 'AZ', 'County': 'Mohave County', 'Average RSSI': -52.0, 'Average Signal Power': -99.0, 'Average Signal Level': 2.0, 'Average Signal Quality': -10.5, 'Average Signal Strength': -99.0, 'Average Cell Strength (ASU)': 41.0}\n",
      "{'_id': ObjectId('6673aeeb163fd6cef5baa1ca'), 'Total Bytes': 13431136.0, 'Bytes per Second': 2686162.0, 'Cross Traffic RX Avg (bps)': 6.0, 'Cross Traffic RX Peak (bps)': 52.0, 'Cross Traffic TX Avg (bps)': 13387.0, 'Cross Traffic TX Peak (bps)': 107100.0, 'Operator Name': 'Verizon', 'Beginning Cellular Technology': '4g', 'End Cellular Technology': '4g', 'Device Manufacturer': 'Google', 'OS Version': 'Android 12', 'State': 'MD', 'County': 'Baltimore County', 'Average RSSI': -63.0, 'Average Signal Power': -91.0, 'Average Signal Level': 3.0, 'Average Signal Quality': -8.0, 'Average Signal Strength': -91.0, 'Average Cell Strength (ASU)': 48.0}\n",
      "{'_id': ObjectId('6673aeeb163fd6cef5baa1cd'), 'Total Bytes': 11355415.0, 'Bytes per Second': 2271067.0, 'Cross Traffic RX Avg (bps)': 210.0, 'Cross Traffic RX Peak (bps)': 551.0, 'Cross Traffic TX Avg (bps)': 4238.0, 'Cross Traffic TX Peak (bps)': 15782.0, 'Operator Name': 'Verizon', 'Beginning Cellular Technology': '4g', 'End Cellular Technology': '4g', 'Device Manufacturer': 'Motorola', 'OS Version': 'Android 10', 'State': 'NH', 'County': 'Sullivan County', 'Average RSSI': -57.0, 'Average Signal Power': -86.0, 'Average Signal Level': 3.0, 'Average Signal Quality': -10.0, 'Average Signal Strength': -86.0, 'Average Cell Strength (ASU)': 62.0}\n",
      "{'_id': ObjectId('6673aeeb163fd6cef5baa1cf'), 'Total Bytes': 36007168.0, 'Bytes per Second': 7201110.0, 'Cross Traffic RX Avg (bps)': 260948.0, 'Cross Traffic RX Peak (bps)': 1582938.0, 'Cross Traffic TX Avg (bps)': 102578.0, 'Cross Traffic TX Peak (bps)': 168484.0, 'Operator Name': 'Verizon', 'Beginning Cellular Technology': '4g', 'End Cellular Technology': '4g', 'Device Manufacturer': 'Samsung', 'OS Version': 'Android 10', 'State': 'IA', 'County': 'Polk County', 'Average RSSI': -53.0, 'Average Signal Power': -86.0, 'Average Signal Level': 3.5, 'Average Signal Quality': -12.5, 'Average Signal Strength': -86.0, 'Average Cell Strength (ASU)': 53.5}\n",
      "{'_id': ObjectId('6673aeeb163fd6cef5baa1d0'), 'Total Bytes': 7916128.0, 'Bytes per Second': 1583211.0, 'Cross Traffic RX Avg (bps)': 6.0, 'Cross Traffic RX Peak (bps)': 52.0, 'Cross Traffic TX Avg (bps)': 0.0, 'Cross Traffic TX Peak (bps)': 0.0, 'Operator Name': 'Verizon', 'Beginning Cellular Technology': '4g', 'End Cellular Technology': '4g', 'Device Manufacturer': 'Samsung', 'OS Version': 'Android 12', 'State': 'IN', 'County': 'Lake County', 'Average RSSI': -66.0, 'Average Signal Power': -96.5, 'Average Signal Level': 2.5, 'Average Signal Quality': -8.0, 'Average Signal Strength': -96.5, 'Average Cell Strength (ASU)': 37.0}\n",
      "{'_id': ObjectId('6673aeeb163fd6cef5baa1d1'), 'Total Bytes': 6951552.0, 'Bytes per Second': 1390296.0, 'Cross Traffic RX Avg (bps)': 110.0, 'Cross Traffic RX Peak (bps)': 469.0, 'Cross Traffic TX Avg (bps)': 2216.0, 'Cross Traffic TX Peak (bps)': 8568.0, 'Operator Name': 'Verizon', 'Beginning Cellular Technology': '4g', 'End Cellular Technology': '4g', 'Device Manufacturer': 'Google', 'OS Version': 'Android 12', 'State': 'WA', 'County': 'Skagit County', 'Average RSSI': -75.0, 'Average Signal Power': -105.0, 'Average Signal Level': 2.0, 'Average Signal Quality': -13.0, 'Average Signal Strength': -105.0, 'Average Cell Strength (ASU)': 38.0}\n",
      "{'_id': ObjectId('6673aeeb163fd6cef5baa1d3'), 'Total Bytes': 14690176.0, 'Bytes per Second': 2937987.0, 'Cross Traffic RX Avg (bps)': 807.0, 'Cross Traffic RX Peak (bps)': 6188.0, 'Cross Traffic TX Avg (bps)': 181.0, 'Cross Traffic TX Peak (bps)': 897.0, 'Operator Name': 'Verizon', 'Beginning Cellular Technology': '4g', 'End Cellular Technology': '4g', 'Device Manufacturer': 'Samsung', 'OS Version': 'Android 12', 'State': 'TX', 'County': 'El Paso County', 'Average RSSI': -61.0, 'Average Signal Power': -96.0, 'Average Signal Level': 2.0, 'Average Signal Quality': -15.0, 'Average Signal Strength': -96.0, 'Average Cell Strength (ASU)': 43.0}\n",
      "{'_id': ObjectId('6673aeeb163fd6cef5baa1d5'), 'Total Bytes': 30690304.0, 'Bytes per Second': 6138035.0, 'Cross Traffic RX Avg (bps)': 141.0, 'Cross Traffic RX Peak (bps)': 416.0, 'Cross Traffic TX Avg (bps)': 7.0, 'Cross Traffic TX Peak (bps)': 72.0, 'Operator Name': 'Verizon', 'Beginning Cellular Technology': '4g', 'End Cellular Technology': '4g', 'Device Manufacturer': 'Samsung', 'OS Version': 'Android 12', 'State': 'IL', 'County': 'Kane County', 'Average RSSI': -59.0, 'Average Signal Power': -88.0, 'Average Signal Level': 3.0, 'Average Signal Quality': -7.0, 'Average Signal Strength': -88.0, 'Average Cell Strength (ASU)': 50.5}\n",
      "{'_id': ObjectId('6673aeeb163fd6cef5baa1d8'), 'Total Bytes': 8749984.0, 'Bytes per Second': 1749978.0, 'Cross Traffic RX Avg (bps)': 19.0, 'Cross Traffic RX Peak (bps)': 156.0, 'Cross Traffic TX Avg (bps)': 0.0, 'Cross Traffic TX Peak (bps)': 0.0, 'Operator Name': 'Verizon', 'Beginning Cellular Technology': '4g', 'End Cellular Technology': '4g', 'Device Manufacturer': 'Google', 'OS Version': 'Android 12', 'State': 'IN', 'County': 'Lake County', 'Average RSSI': -65.0, 'Average Signal Power': -93.0, 'Average Signal Level': 3.0, 'Average Signal Quality': -14.0, 'Average Signal Strength': -93.0, 'Average Cell Strength (ASU)': 46.0}\n",
      "{'_id': ObjectId('6673aeeb163fd6cef5baa1d9'), 'Total Bytes': 0.0, 'Bytes per Second': 0.0, 'Cross Traffic RX Avg (bps)': 0.0, 'Cross Traffic RX Peak (bps)': 0.0, 'Cross Traffic TX Avg (bps)': 30.0, 'Cross Traffic TX Peak (bps)': 80.0, 'Operator Name': 'Verizon', 'Beginning Cellular Technology': '4g', 'End Cellular Technology': '4g', 'Device Manufacturer': 'Samsung', 'OS Version': 'Android 12', 'State': 'IL', 'County': 'Cook County', 'Average RSSI': -52.0, 'Average Signal Power': -86.5, 'Average Signal Level': 3.0, 'Average Signal Quality': -12.0, 'Average Signal Strength': -86.5, 'Average Cell Strength (ASU)': 52.5}\n",
      "{'_id': ObjectId('6673aeeb163fd6cef5baa1da'), 'Total Bytes': 2112160.0, 'Bytes per Second': 422422.0, 'Cross Traffic RX Avg (bps)': 584.0, 'Cross Traffic RX Peak (bps)': 2648.0, 'Cross Traffic TX Avg (bps)': 1810.0, 'Cross Traffic TX Peak (bps)': 5712.0, 'Operator Name': 'Verizon', 'Beginning Cellular Technology': '4g', 'End Cellular Technology': '4g', 'Device Manufacturer': 'LGE', 'OS Version': 'Android 10', 'State': 'LA', 'County': 'Jefferson Davis Parish', 'Average RSSI': -73.0, 'Average Signal Power': -101.5, 'Average Signal Level': 2.0, 'Average Signal Quality': -11.0, 'Average Signal Strength': -101.5, 'Average Cell Strength (ASU)': 38.0}\n",
      "{'_id': ObjectId('6673aeeb163fd6cef5baa1dd'), 'Total Bytes': 3701440.0, 'Bytes per Second': 740273.0, 'Cross Traffic RX Avg (bps)': 225.0, 'Cross Traffic RX Peak (bps)': 1520.0, 'Cross Traffic TX Avg (bps)': 1600.0, 'Cross Traffic TX Peak (bps)': 8568.0, 'Operator Name': 'Verizon', 'Beginning Cellular Technology': '4g', 'End Cellular Technology': '4g', 'Device Manufacturer': 'Samsung', 'OS Version': 'Android 12', 'State': 'IN', 'County': 'Lake County', 'Average RSSI': -73.0, 'Average Signal Power': -108.0, 'Average Signal Level': 1.0, 'Average Signal Quality': -15.0, 'Average Signal Strength': -108.0, 'Average Cell Strength (ASU)': 31.0}\n",
      "{'_id': ObjectId('6673aeeb163fd6cef5baa1df'), 'Total Bytes': 1126944.0, 'Bytes per Second': 225387.0, 'Cross Traffic RX Avg (bps)': 123.0, 'Cross Traffic RX Peak (bps)': 925.0, 'Cross Traffic TX Avg (bps)': 119.0, 'Cross Traffic TX Peak (bps)': 1020.0, 'Operator Name': 'Verizon', 'Beginning Cellular Technology': '4g', 'End Cellular Technology': '4g', 'Device Manufacturer': 'Samsung', 'OS Version': 'Android 12', 'State': 'IN', 'County': 'St. Joseph County', 'Average RSSI': -83.0, 'Average Signal Power': -108.5, 'Average Signal Level': 1.0, 'Average Signal Quality': -11.0, 'Average Signal Strength': -108.5, 'Average Cell Strength (ASU)': 32.0}\n",
      "{'_id': ObjectId('6673aeeb163fd6cef5baa1e1'), 'Total Bytes': 3347808.0, 'Bytes per Second': 669556.0, 'Cross Traffic RX Avg (bps)': 22.0, 'Cross Traffic RX Peak (bps)': 104.0, 'Cross Traffic TX Avg (bps)': 707.0, 'Cross Traffic TX Peak (bps)': 4284.0, 'Operator Name': 'Verizon', 'Beginning Cellular Technology': '4g', 'End Cellular Technology': '4g', 'Device Manufacturer': 'Samsung', 'OS Version': 'Android 12', 'State': 'IL', 'County': 'Cook County', 'Average RSSI': -65.0, 'Average Signal Power': -94.0, 'Average Signal Level': 3.0, 'Average Signal Quality': -12.0, 'Average Signal Strength': -94.0, 'Average Cell Strength (ASU)': 44.0}\n",
      "{'_id': ObjectId('6673aeeb163fd6cef5baa1e4'), 'Total Bytes': 2150688.0, 'Bytes per Second': 430133.0, 'Cross Traffic RX Avg (bps)': 13.0, 'Cross Traffic RX Peak (bps)': 52.0, 'Cross Traffic TX Avg (bps)': 1428.0, 'Cross Traffic TX Peak (bps)': 5712.0, 'Operator Name': 'Verizon', 'Beginning Cellular Technology': '4g', 'End Cellular Technology': '4g', 'Device Manufacturer': 'Google', 'OS Version': 'Android 12', 'State': 'IL', 'County': 'DuPage County', 'Average RSSI': -51.0, 'Average Signal Power': -104.0, 'Average Signal Level': 2.0, 'Average Signal Quality': -16.0, 'Average Signal Strength': -104.0, 'Average Cell Strength (ASU)': 43.0}\n",
      "{'_id': ObjectId('6673aeeb163fd6cef5baa1e5'), 'Total Bytes': 16158368.0, 'Bytes per Second': 3231626.0, 'Cross Traffic RX Avg (bps)': 0.0, 'Cross Traffic RX Peak (bps)': 0.0, 'Cross Traffic TX Avg (bps)': 0.0, 'Cross Traffic TX Peak (bps)': 0.0, 'Operator Name': 'Verizon', 'Beginning Cellular Technology': '4g', 'End Cellular Technology': '4g', 'Device Manufacturer': 'Samsung', 'OS Version': 'Android 12', 'State': 'IL', 'County': 'Cook County', 'Average RSSI': -51.0, 'Average Signal Power': -79.0, 'Average Signal Level': 4.0, 'Average Signal Quality': -14.5, 'Average Signal Strength': -79.0, 'Average Cell Strength (ASU)': 64.0}\n",
      "{'_id': ObjectId('6673aeeb163fd6cef5baa1e8'), 'Total Bytes': 0.0, 'Bytes per Second': 0.0, 'Cross Traffic RX Avg (bps)': 0.0, 'Cross Traffic RX Peak (bps)': 0.0, 'Cross Traffic TX Avg (bps)': 14.0, 'Cross Traffic TX Peak (bps)': 40.0, 'Operator Name': 'Verizon', 'Beginning Cellular Technology': '4g', 'End Cellular Technology': '4g', 'Device Manufacturer': 'Google', 'OS Version': 'Android 11', 'State': 'IL', 'County': 'Cook County', 'Average RSSI': -51.0, 'Average Signal Power': -82.0, 'Average Signal Level': 4.0, 'Average Signal Quality': -14.0, 'Average Signal Strength': -82.0, 'Average Cell Strength (ASU)': 47.5}\n",
      "{'_id': ObjectId('6673aeeb163fd6cef5baa1ee'), 'Total Bytes': 38138592.0, 'Bytes per Second': 7627672.0, 'Cross Traffic RX Avg (bps)': 6.0, 'Cross Traffic RX Peak (bps)': 52.0, 'Cross Traffic TX Avg (bps)': 2142.0, 'Cross Traffic TX Peak (bps)': 17136.0, 'Operator Name': 'Verizon', 'Beginning Cellular Technology': '4g', 'End Cellular Technology': '4g', 'Device Manufacturer': 'Samsung', 'OS Version': 'Android 12', 'State': 'IL', 'County': 'Cook County', 'Average RSSI': -51.0, 'Average Signal Power': -85.0, 'Average Signal Level': 4.0, 'Average Signal Quality': -10.0, 'Average Signal Strength': -85.0, 'Average Cell Strength (ASU)': 55.5}\n",
      "{'_id': ObjectId('6673aeeb163fd6cef5baa1ef'), 'Total Bytes': 12139072.0, 'Bytes per Second': 2427787.0, 'Cross Traffic RX Avg (bps)': 0.0, 'Cross Traffic RX Peak (bps)': 0.0, 'Cross Traffic TX Avg (bps)': 8282.0, 'Cross Traffic TX Peak (bps)': 82824.0, 'Operator Name': 'Verizon', 'Beginning Cellular Technology': '4g', 'End Cellular Technology': '4g', 'Device Manufacturer': 'Google', 'OS Version': 'Android 12', 'State': 'NC', 'County': 'Buncombe County', 'Average RSSI': -60.0, 'Average Signal Power': -93.0, 'Average Signal Level': 3.0, 'Average Signal Quality': -13.5, 'Average Signal Strength': -93.0, 'Average Cell Strength (ASU)': 46.0}\n",
      "{'_id': ObjectId('6673aeeb163fd6cef5baa1f2'), 'Total Bytes': 24974400.0, 'Bytes per Second': 4994277.0, 'Cross Traffic RX Avg (bps)': 0.0, 'Cross Traffic RX Peak (bps)': 0.0, 'Cross Traffic TX Avg (bps)': 0.0, 'Cross Traffic TX Peak (bps)': 0.0, 'Operator Name': 'Verizon', 'Beginning Cellular Technology': '4g', 'End Cellular Technology': '4g', 'Device Manufacturer': 'Samsung', 'OS Version': 'Android 12', 'State': 'IL', 'County': 'Cook County', 'Average RSSI': -51.0, 'Average Signal Power': -73.5, 'Average Signal Level': 4.0, 'Average Signal Quality': -7.0, 'Average Signal Strength': -73.5, 'Average Cell Strength (ASU)': 65.5}\n",
      "{'_id': ObjectId('6673aeeb163fd6cef5baa1f5'), 'Total Bytes': 41182304.0, 'Bytes per Second': 8236393.0, 'Cross Traffic RX Avg (bps)': 6.0, 'Cross Traffic RX Peak (bps)': 52.0, 'Cross Traffic TX Avg (bps)': 0.0, 'Cross Traffic TX Peak (bps)': 0.0, 'Operator Name': 'Verizon', 'Beginning Cellular Technology': '4g', 'End Cellular Technology': '4g', 'Device Manufacturer': 'Samsung', 'OS Version': 'Android 12', 'State': 'IL', 'County': 'Cook County', 'Average RSSI': -51.0, 'Average Signal Power': -76.5, 'Average Signal Level': 4.0, 'Average Signal Quality': -14.0, 'Average Signal Strength': -76.5, 'Average Cell Strength (ASU)': 62.0}\n",
      "{'_id': ObjectId('6673aeeb163fd6cef5baa1fa'), 'Total Bytes': 10514560.0, 'Bytes per Second': 2102901.0, 'Cross Traffic RX Avg (bps)': 1582.0, 'Cross Traffic RX Peak (bps)': 12016.0, 'Cross Traffic TX Avg (bps)': 1171.0, 'Cross Traffic TX Peak (bps)': 5764.0, 'Operator Name': 'Verizon', 'Beginning Cellular Technology': '4g', 'End Cellular Technology': '4g', 'Device Manufacturer': 'Samsung', 'OS Version': 'Android 12', 'State': 'TN', 'County': 'Sumner County', 'Average RSSI': -83.0, 'Average Signal Power': -109.0, 'Average Signal Level': 1.0, 'Average Signal Quality': -11.0, 'Average Signal Strength': -109.0, 'Average Cell Strength (ASU)': 32.5}\n",
      "{'_id': ObjectId('6673aeeb163fd6cef5baa202'), 'Total Bytes': 10858016.0, 'Bytes per Second': 2171591.0, 'Cross Traffic RX Avg (bps)': 158.0, 'Cross Traffic RX Peak (bps)': 1109.0, 'Cross Traffic TX Avg (bps)': 17315.0, 'Cross Traffic TX Peak (bps)': 155548.0, 'Operator Name': 'Verizon', 'Beginning Cellular Technology': '4g', 'End Cellular Technology': '4g', 'Device Manufacturer': 'Samsung', 'OS Version': 'Android 12', 'State': 'CO', 'County': 'Prowers County', 'Average RSSI': -67.0, 'Average Signal Power': -96.5, 'Average Signal Level': 2.5, 'Average Signal Quality': -10.5, 'Average Signal Strength': -96.5, 'Average Cell Strength (ASU)': 42.5}\n",
      "{'_id': ObjectId('6673aeeb163fd6cef5baa204'), 'Total Bytes': 24345568.0, 'Bytes per Second': 4869077.0, 'Cross Traffic RX Avg (bps)': 0.0, 'Cross Traffic RX Peak (bps)': 0.0, 'Cross Traffic TX Avg (bps)': 0.0, 'Cross Traffic TX Peak (bps)': 0.0, 'Operator Name': 'Verizon', 'Beginning Cellular Technology': '4g', 'End Cellular Technology': '4g', 'Device Manufacturer': 'Samsung', 'OS Version': 'Android 12', 'State': 'IL', 'County': 'Cook County', 'Average RSSI': -51.0, 'Average Signal Power': -66.0, 'Average Signal Level': 4.0, 'Average Signal Quality': -9.0, 'Average Signal Strength': -66.0, 'Average Cell Strength (ASU)': 68.0}\n",
      "{'_id': ObjectId('6673aeeb163fd6cef5baa209'), 'Total Bytes': 13267392.0, 'Bytes per Second': 2653400.0, 'Cross Traffic RX Avg (bps)': 1051.0, 'Cross Traffic RX Peak (bps)': 5112.0, 'Cross Traffic TX Avg (bps)': 21754.0, 'Cross Traffic TX Peak (bps)': 177640.0, 'Operator Name': 'Verizon', 'Beginning Cellular Technology': '4g', 'End Cellular Technology': '4g', 'Device Manufacturer': 'Google', 'OS Version': 'Android 12', 'State': 'DC', 'County': 'District of Columbia', 'Average RSSI': -71.0, 'Average Signal Power': -99.0, 'Average Signal Level': 2.0, 'Average Signal Quality': -10.0, 'Average Signal Strength': -99.0, 'Average Cell Strength (ASU)': 42.0}\n",
      "{'_id': ObjectId('6673aeeb163fd6cef5baa20a'), 'Total Bytes': 1846592.0, 'Bytes per Second': 369315.0, 'Cross Traffic RX Avg (bps)': 121.0, 'Cross Traffic RX Peak (bps)': 1212.0, 'Cross Traffic TX Avg (bps)': 64.0, 'Cross Traffic TX Peak (bps)': 640.0, 'Operator Name': 'Verizon', 'Beginning Cellular Technology': '4g', 'End Cellular Technology': '4g', 'Device Manufacturer': 'Samsung', 'OS Version': 'Android 12', 'State': 'IL', 'County': 'Cook County', 'Average RSSI': -77.0, 'Average Signal Power': -112.0, 'Average Signal Level': 1.0, 'Average Signal Quality': -15.0, 'Average Signal Strength': -112.0, 'Average Cell Strength (ASU)': 32.5}\n",
      "{'_id': ObjectId('6673aeeb163fd6cef5baa20b'), 'Total Bytes': 1173728.0, 'Bytes per Second': 234743.0, 'Cross Traffic RX Avg (bps)': 80.0, 'Cross Traffic RX Peak (bps)': 136.0, 'Cross Traffic TX Avg (bps)': 900.0, 'Cross Traffic TX Peak (bps)': 2940.0, 'Operator Name': 'Verizon', 'Beginning Cellular Technology': '4g', 'End Cellular Technology': '4g', 'Device Manufacturer': 'Google', 'OS Version': 'Android 11', 'State': 'IL', 'County': 'Cook County', 'Average RSSI': -83.0, 'Average Signal Power': -114.5, 'Average Signal Level': 1.0, 'Average Signal Quality': -14.5, 'Average Signal Strength': -114.5, 'Average Cell Strength (ASU)': 28.0}\n",
      "{'_id': ObjectId('6673aeeb163fd6cef5baa20f'), 'Total Bytes': 14037952.0, 'Bytes per Second': 2807566.0, 'Cross Traffic RX Avg (bps)': 1539.0, 'Cross Traffic RX Peak (bps)': 4249.0, 'Cross Traffic TX Avg (bps)': 3442.0, 'Cross Traffic TX Peak (bps)': 18677.0, 'Operator Name': 'Verizon', 'Beginning Cellular Technology': '4g', 'End Cellular Technology': '4g', 'Device Manufacturer': 'Samsung', 'OS Version': 'Android 12', 'State': 'CT', 'County': 'Hartford County', 'Average RSSI': -51.0, 'Average Signal Power': -75.5, 'Average Signal Level': 4.0, 'Average Signal Quality': -8.5, 'Average Signal Strength': -75.5, 'Average Cell Strength (ASU)': 61.0}\n",
      "{'_id': ObjectId('6673aeeb163fd6cef5baa211'), 'Total Bytes': 24004320.0, 'Bytes per Second': 4800774.0, 'Cross Traffic RX Avg (bps)': 34.0, 'Cross Traffic RX Peak (bps)': 312.0, 'Cross Traffic TX Avg (bps)': 5.0, 'Cross Traffic TX Peak (bps)': 52.0, 'Operator Name': 'Verizon', 'Beginning Cellular Technology': '4g', 'End Cellular Technology': '4g', 'Device Manufacturer': 'Samsung', 'OS Version': 'Android 12', 'State': 'CA', 'County': 'Orange County', 'Average RSSI': -51.0, 'Average Signal Power': -68.5, 'Average Signal Level': 4.0, 'Average Signal Quality': -11.0, 'Average Signal Strength': -68.5, 'Average Cell Strength (ASU)': 70.0}\n",
      "{'_id': ObjectId('6673aeeb163fd6cef5baa214'), 'Total Bytes': 5574176.0, 'Bytes per Second': 1114824.0, 'Cross Traffic RX Avg (bps)': 6.0, 'Cross Traffic RX Peak (bps)': 60.0, 'Cross Traffic TX Avg (bps)': 16.0, 'Cross Traffic TX Peak (bps)': 168.0, 'Operator Name': 'Verizon', 'Beginning Cellular Technology': '4g', 'End Cellular Technology': '4g', 'Device Manufacturer': 'LGE', 'OS Version': 'Android 10', 'State': 'LA', 'County': 'Jefferson Davis Parish', 'Average RSSI': -71.0, 'Average Signal Power': -102.0, 'Average Signal Level': 2.0, 'Average Signal Quality': -10.5, 'Average Signal Strength': -102.0, 'Average Cell Strength (ASU)': 37.0}\n",
      "{'_id': ObjectId('6673aeeb163fd6cef5baa215'), 'Total Bytes': 23486944.0, 'Bytes per Second': 4697332.0, 'Cross Traffic RX Avg (bps)': 896.0, 'Cross Traffic RX Peak (bps)': 4396.0, 'Cross Traffic TX Avg (bps)': 8811.0, 'Cross Traffic TX Peak (bps)': 59992.0, 'Operator Name': 'Verizon', 'Beginning Cellular Technology': '4g', 'End Cellular Technology': '4g', 'Device Manufacturer': 'Samsung', 'OS Version': 'Android 12', 'State': 'AL', 'County': 'Madison County', 'Average RSSI': -51.0, 'Average Signal Power': -76.0, 'Average Signal Level': 4.0, 'Average Signal Quality': -7.0, 'Average Signal Strength': -76.0, 'Average Cell Strength (ASU)': 53.0}\n",
      "{'_id': ObjectId('6673aeeb163fd6cef5baa216'), 'Total Bytes': 1726880.0, 'Bytes per Second': 345370.0, 'Cross Traffic RX Avg (bps)': 13.0, 'Cross Traffic RX Peak (bps)': 104.0, 'Cross Traffic TX Avg (bps)': 0.0, 'Cross Traffic TX Peak (bps)': 0.0, 'Operator Name': 'Verizon', 'Beginning Cellular Technology': '4g', 'End Cellular Technology': '4g', 'Device Manufacturer': 'Google', 'OS Version': 'Android 11', 'State': 'IN', 'County': 'LaPorte County', 'Average RSSI': -77.0, 'Average Signal Power': -107.0, 'Average Signal Level': 1.5, 'Average Signal Quality': -10.5, 'Average Signal Strength': -107.0, 'Average Cell Strength (ASU)': 36.5}\n",
      "{'_id': ObjectId('6673aeeb163fd6cef5baa21c'), 'Total Bytes': 156864.0, 'Bytes per Second': 31372.0, 'Cross Traffic RX Avg (bps)': 513.0, 'Cross Traffic RX Peak (bps)': 3011.0, 'Cross Traffic TX Avg (bps)': 906.0, 'Cross Traffic TX Peak (bps)': 5712.0, 'Operator Name': 'Verizon', 'Beginning Cellular Technology': '4g', 'End Cellular Technology': '4g', 'Device Manufacturer': 'Samsung', 'OS Version': 'Android 12', 'State': 'IL', 'County': 'Winnebago County', 'Average RSSI': -59.0, 'Average Signal Power': -88.0, 'Average Signal Level': 3.0, 'Average Signal Quality': -13.0, 'Average Signal Strength': -88.0, 'Average Cell Strength (ASU)': 48.0}\n",
      "{'_id': ObjectId('6673aeeb163fd6cef5baa21e'), 'Total Bytes': 1660832.0, 'Bytes per Second': 332164.0, 'Cross Traffic RX Avg (bps)': 248435.0, 'Cross Traffic RX Peak (bps)': 1294385.0, 'Cross Traffic TX Avg (bps)': 13669.0, 'Cross Traffic TX Peak (bps)': 38262.0, 'Operator Name': 'Verizon', 'Beginning Cellular Technology': '4g', 'End Cellular Technology': '4g', 'Device Manufacturer': 'Google', 'OS Version': 'Android 12', 'State': 'MI', 'County': 'Leelanau County', 'Average RSSI': -75.0, 'Average Signal Power': -107.0, 'Average Signal Level': 1.0, 'Average Signal Quality': -14.0, 'Average Signal Strength': -107.0, 'Average Cell Strength (ASU)': 32.0}\n",
      "{'_id': ObjectId('6673aeeb163fd6cef5baa221'), 'Total Bytes': 3082240.0, 'Bytes per Second': 616441.0, 'Cross Traffic RX Avg (bps)': 149.0, 'Cross Traffic RX Peak (bps)': 1072.0, 'Cross Traffic TX Avg (bps)': 96.0, 'Cross Traffic TX Peak (bps)': 653.0, 'Operator Name': 'Verizon', 'Beginning Cellular Technology': '4g', 'End Cellular Technology': '4g', 'Device Manufacturer': 'Samsung', 'OS Version': 'Android 12', 'State': 'IL', 'County': 'Cook County', 'Average RSSI': -51.0, 'Average Signal Power': -71.0, 'Average Signal Level': 4.0, 'Average Signal Quality': -8.0, 'Average Signal Strength': -71.0, 'Average Cell Strength (ASU)': 65.0}\n",
      "{'_id': ObjectId('6673aeeb163fd6cef5baa222'), 'Total Bytes': 4396320.0, 'Bytes per Second': 879256.0, 'Cross Traffic RX Avg (bps)': 39.0, 'Cross Traffic RX Peak (bps)': 156.0, 'Cross Traffic TX Avg (bps)': 0.0, 'Cross Traffic TX Peak (bps)': 0.0, 'Operator Name': 'Verizon', 'Beginning Cellular Technology': '4g', 'End Cellular Technology': '4g', 'Device Manufacturer': 'Samsung', 'OS Version': 'Android 12', 'State': 'MI', 'County': 'Oakland County', 'Average RSSI': -77.0, 'Average Signal Power': -111.0, 'Average Signal Level': 1.0, 'Average Signal Quality': -13.0, 'Average Signal Strength': -111.0, 'Average Cell Strength (ASU)': 28.0}\n",
      "{'_id': ObjectId('6673aeeb163fd6cef5baa223'), 'Total Bytes': 7631296.0, 'Bytes per Second': 1526203.0, 'Cross Traffic RX Avg (bps)': 3488.0, 'Cross Traffic RX Peak (bps)': 17170.0, 'Cross Traffic TX Avg (bps)': 26027.0, 'Cross Traffic TX Peak (bps)': 62551.0, 'Operator Name': 'Verizon', 'Beginning Cellular Technology': '4g', 'End Cellular Technology': '4g', 'Device Manufacturer': 'Samsung', 'OS Version': 'Android 10', 'State': 'IA', 'County': 'Polk County', 'Average RSSI': -53.0, 'Average Signal Power': -78.0, 'Average Signal Level': 4.0, 'Average Signal Quality': -11.0, 'Average Signal Strength': -78.0, 'Average Cell Strength (ASU)': 61.5}\n",
      "{'_id': ObjectId('6673aeeb163fd6cef5baa227'), 'Total Bytes': 900782.0, 'Bytes per Second': 180154.0, 'Cross Traffic RX Avg (bps)': 125.0, 'Cross Traffic RX Peak (bps)': 515.0, 'Cross Traffic TX Avg (bps)': 760.0, 'Cross Traffic TX Peak (bps)': 3156.0, 'Operator Name': 'Verizon', 'Beginning Cellular Technology': '4g', 'End Cellular Technology': '4g', 'Device Manufacturer': 'Motorola', 'OS Version': 'Android 10', 'State': 'NH', 'County': 'Merrimack County', 'Average RSSI': -68.0, 'Average Signal Power': -98.0, 'Average Signal Level': 2.0, 'Average Signal Quality': -11.0, 'Average Signal Strength': -98.0, 'Average Cell Strength (ASU)': 40.0}\n",
      "{'_id': ObjectId('6673aeeb163fd6cef5baa22c'), 'Total Bytes': 1246656.0, 'Bytes per Second': 249329.0, 'Cross Traffic RX Avg (bps)': 17.0, 'Cross Traffic RX Peak (bps)': 64.0, 'Cross Traffic TX Avg (bps)': 1606.0, 'Cross Traffic TX Peak (bps)': 4248.0, 'Operator Name': 'Verizon', 'Beginning Cellular Technology': '4g', 'End Cellular Technology': '4g', 'Device Manufacturer': 'Google', 'OS Version': 'Android 12', 'State': 'IN', 'County': 'Porter County', 'Average RSSI': -75.0, 'Average Signal Power': -115.0, 'Average Signal Level': 1.0, 'Average Signal Quality': -15.0, 'Average Signal Strength': -115.0, 'Average Cell Strength (ASU)': 20.0}\n",
      "{'_id': ObjectId('6673aeeb163fd6cef5baa22d'), 'Total Bytes': 3371200.0, 'Bytes per Second': 674233.0, 'Cross Traffic RX Avg (bps)': 6.0, 'Cross Traffic RX Peak (bps)': 52.0, 'Cross Traffic TX Avg (bps)': 482.0, 'Cross Traffic TX Peak (bps)': 1456.0, 'Operator Name': 'Verizon', 'Beginning Cellular Technology': '4g', 'End Cellular Technology': '4g', 'Device Manufacturer': 'Samsung', 'OS Version': 'Android 12', 'State': 'MS', 'County': 'Covington County', 'Average RSSI': -83.0, 'Average Signal Power': -111.0, 'Average Signal Level': 1.0, 'Average Signal Quality': -13.0, 'Average Signal Strength': -111.0, 'Average Cell Strength (ASU)': 37.5}\n",
      "{'_id': ObjectId('6673aeeb163fd6cef5baa230'), 'Total Bytes': 0.0, 'Bytes per Second': 0.0, 'Cross Traffic RX Avg (bps)': 10.0, 'Cross Traffic RX Peak (bps)': 104.0, 'Cross Traffic TX Avg (bps)': 21.0, 'Cross Traffic TX Peak (bps)': 80.0, 'Operator Name': 'Verizon', 'Beginning Cellular Technology': '4g', 'End Cellular Technology': '4g', 'Device Manufacturer': 'Samsung', 'OS Version': 'Android 12', 'State': 'IL', 'County': 'Cook County', 'Average RSSI': -51.0, 'Average Signal Power': -78.5, 'Average Signal Level': 4.0, 'Average Signal Quality': -13.0, 'Average Signal Strength': -78.5, 'Average Cell Strength (ASU)': 61.5}\n",
      "{'_id': ObjectId('6673aeeb163fd6cef5baa231'), 'Total Bytes': 383904.0, 'Bytes per Second': 76779.0, 'Cross Traffic RX Avg (bps)': 1230.0, 'Cross Traffic RX Peak (bps)': 7257.0, 'Cross Traffic TX Avg (bps)': 684.0, 'Cross Traffic TX Peak (bps)': 1967.0, 'Operator Name': 'Verizon', 'Beginning Cellular Technology': '4g', 'End Cellular Technology': '4g', 'Device Manufacturer': 'Samsung', 'OS Version': 'Android 12', 'State': 'TX', 'County': 'Dallas County', 'Average RSSI': -70.0, 'Average Signal Power': -105.5, 'Average Signal Level': 1.5, 'Average Signal Quality': -16.0, 'Average Signal Strength': -105.5, 'Average Cell Strength (ASU)': 33.0}\n",
      "{'_id': ObjectId('6673aeeb163fd6cef5baa236'), 'Total Bytes': 127968.0, 'Bytes per Second': 25592.0, 'Cross Traffic RX Avg (bps)': 2933.0, 'Cross Traffic RX Peak (bps)': 12232.0, 'Cross Traffic TX Avg (bps)': 546.0, 'Cross Traffic TX Peak (bps)': 1355.0, 'Operator Name': 'Verizon', 'Beginning Cellular Technology': '4g', 'End Cellular Technology': '4g', 'Device Manufacturer': 'Google', 'OS Version': 'Android 12', 'State': 'VA', 'County': 'Virginia Beach city', 'Average RSSI': -83.0, 'Average Signal Power': -117.0, 'Average Signal Level': 0.0, 'Average Signal Quality': -15.0, 'Average Signal Strength': -117.0, 'Average Cell Strength (ASU)': 23.0}\n",
      "{'_id': ObjectId('6673aeeb163fd6cef5baa237'), 'Total Bytes': 17180736.0, 'Bytes per Second': 3436123.0, 'Cross Traffic RX Avg (bps)': 0.0, 'Cross Traffic RX Peak (bps)': 0.0, 'Cross Traffic TX Avg (bps)': 0.0, 'Cross Traffic TX Peak (bps)': 0.0, 'Operator Name': 'Verizon', 'Beginning Cellular Technology': '4g', 'End Cellular Technology': '4g', 'Device Manufacturer': 'Samsung', 'OS Version': 'Android 12', 'State': 'IN', 'County': 'Lake County', 'Average RSSI': -52.0, 'Average Signal Power': -81.0, 'Average Signal Level': 4.0, 'Average Signal Quality': -9.0, 'Average Signal Strength': -81.0, 'Average Cell Strength (ASU)': 54.0}\n",
      "{'_id': ObjectId('6673aeeb163fd6cef5baa23c'), 'Total Bytes': 4851776.0, 'Bytes per Second': 970318.0, 'Cross Traffic RX Avg (bps)': 20.0, 'Cross Traffic RX Peak (bps)': 208.0, 'Cross Traffic TX Avg (bps)': 20.0, 'Cross Traffic TX Peak (bps)': 200.0, 'Operator Name': 'Verizon', 'Beginning Cellular Technology': '4g', 'End Cellular Technology': '4g', 'Device Manufacturer': 'Google', 'OS Version': 'Android 11', 'State': 'IL', 'County': 'Cook County', 'Average RSSI': -73.0, 'Average Signal Power': -109.0, 'Average Signal Level': 1.0, 'Average Signal Quality': -15.0, 'Average Signal Strength': -109.0, 'Average Cell Strength (ASU)': 31.5}\n",
      "{'_id': ObjectId('6673aeeb163fd6cef5baa23f'), 'Total Bytes': 11203392.0, 'Bytes per Second': 2240634.0, 'Cross Traffic RX Avg (bps)': 457.0, 'Cross Traffic RX Peak (bps)': 840.0, 'Cross Traffic TX Avg (bps)': 7543.0, 'Cross Traffic TX Peak (bps)': 60104.0, 'Operator Name': 'Verizon', 'Beginning Cellular Technology': '4g', 'End Cellular Technology': '4g', 'Device Manufacturer': 'Samsung', 'OS Version': 'Android 10', 'State': 'CA', 'County': 'Madera County', 'Average RSSI': -62.0, 'Average Signal Power': -94.0, 'Average Signal Level': 3.0, 'Average Signal Quality': -11.0, 'Average Signal Strength': -94.0, 'Average Cell Strength (ASU)': 45.0}\n",
      "{'_id': ObjectId('6673aeeb163fd6cef5baa240'), 'Total Bytes': 25545440.0, 'Bytes per Second': 5109007.0, 'Cross Traffic RX Avg (bps)': 4116.0, 'Cross Traffic RX Peak (bps)': 9111.0, 'Cross Traffic TX Avg (bps)': 35406.0, 'Cross Traffic TX Peak (bps)': 102554.0, 'Operator Name': 'Verizon', 'Beginning Cellular Technology': '4g', 'End Cellular Technology': '4g', 'Device Manufacturer': 'Samsung', 'OS Version': 'Android 10', 'State': 'FL', 'County': 'Polk County', 'Average RSSI': -51.0, 'Average Signal Power': -87.0, 'Average Signal Level': 3.0, 'Average Signal Quality': -14.5, 'Average Signal Strength': -87.0, 'Average Cell Strength (ASU)': 52.0}\n",
      "{'_id': ObjectId('6673aeeb163fd6cef5baa242'), 'Total Bytes': 47242208.0, 'Bytes per Second': 9448390.0, 'Cross Traffic RX Avg (bps)': 111.0, 'Cross Traffic RX Peak (bps)': 728.0, 'Cross Traffic TX Avg (bps)': 19146.0, 'Cross Traffic TX Peak (bps)': 67012.0, 'Operator Name': 'Verizon', 'Beginning Cellular Technology': '4g', 'End Cellular Technology': '4g', 'Device Manufacturer': 'Samsung', 'OS Version': 'Android 12', 'State': 'IL', 'County': 'Cook County', 'Average RSSI': -51.0, 'Average Signal Power': -74.5, 'Average Signal Level': 4.0, 'Average Signal Quality': -9.5, 'Average Signal Strength': -74.5, 'Average Cell Strength (ASU)': 64.0}\n",
      "{'_id': ObjectId('6673aeeb163fd6cef5baa243'), 'Total Bytes': 31053568.0, 'Bytes per Second': 6210635.0, 'Cross Traffic RX Avg (bps)': 32.0, 'Cross Traffic RX Peak (bps)': 156.0, 'Cross Traffic TX Avg (bps)': 0.0, 'Cross Traffic TX Peak (bps)': 0.0, 'Operator Name': 'Verizon', 'Beginning Cellular Technology': '4g', 'End Cellular Technology': '4g', 'Device Manufacturer': 'Samsung', 'OS Version': 'Android 12', 'State': 'IL', 'County': 'Cook County', 'Average RSSI': -51.0, 'Average Signal Power': -79.0, 'Average Signal Level': 4.0, 'Average Signal Quality': -13.0, 'Average Signal Strength': -79.0, 'Average Cell Strength (ASU)': 61.0}\n",
      "{'_id': ObjectId('6673aeeb163fd6cef5baa244'), 'Total Bytes': 28161216.0, 'Bytes per Second': 5632133.0, 'Cross Traffic RX Avg (bps)': 1682.0, 'Cross Traffic RX Peak (bps)': 14198.0, 'Cross Traffic TX Avg (bps)': 753.0, 'Cross Traffic TX Peak (bps)': 6111.0, 'Operator Name': 'Verizon', 'Beginning Cellular Technology': '4g', 'End Cellular Technology': '4g', 'Device Manufacturer': 'Samsung', 'OS Version': 'Android 12', 'State': 'VA', 'County': 'Arlington County', 'Average RSSI': -51.0, 'Average Signal Power': -80.5, 'Average Signal Level': 4.0, 'Average Signal Quality': -12.5, 'Average Signal Strength': -80.5, 'Average Cell Strength (ASU)': 58.0}\n",
      "{'_id': ObjectId('6673aeeb163fd6cef5baa24d'), 'Total Bytes': 7792288.0, 'Bytes per Second': 1558440.0, 'Cross Traffic RX Avg (bps)': 888.0, 'Cross Traffic RX Peak (bps)': 7071.0, 'Cross Traffic TX Avg (bps)': 801.0, 'Cross Traffic TX Peak (bps)': 4239.0, 'Operator Name': 'Verizon', 'Beginning Cellular Technology': '4g', 'End Cellular Technology': '4g', 'Device Manufacturer': 'Samsung', 'OS Version': 'Android 12', 'State': 'WA', 'County': 'Pierce County', 'Average RSSI': -71.0, 'Average Signal Power': -101.5, 'Average Signal Level': 2.0, 'Average Signal Quality': -12.0, 'Average Signal Strength': -101.5, 'Average Cell Strength (ASU)': 38.0}\n",
      "{'_id': ObjectId('6673aeeb163fd6cef5baa250'), 'Total Bytes': 0.0, 'Bytes per Second': 0.0, 'Cross Traffic RX Avg (bps)': 0.0, 'Cross Traffic RX Peak (bps)': 0.0, 'Cross Traffic TX Avg (bps)': 26.0, 'Cross Traffic TX Peak (bps)': 136.0, 'Operator Name': 'Verizon', 'Beginning Cellular Technology': '4g', 'End Cellular Technology': '4g', 'Device Manufacturer': 'Google', 'OS Version': 'Android 11', 'State': 'IL', 'County': 'Cook County', 'Average RSSI': -70.0, 'Average Signal Power': -94.5, 'Average Signal Level': 2.5, 'Average Signal Quality': -7.5, 'Average Signal Strength': -94.5, 'Average Cell Strength (ASU)': 44.0}\n",
      "{'_id': ObjectId('6673aeeb163fd6cef5baa252'), 'Total Bytes': 5338880.0, 'Bytes per Second': 1067768.0, 'Cross Traffic RX Avg (bps)': 2178.0, 'Cross Traffic RX Peak (bps)': 8775.0, 'Cross Traffic TX Avg (bps)': 1729.0, 'Cross Traffic TX Peak (bps)': 6466.0, 'Operator Name': 'Verizon', 'Beginning Cellular Technology': '4g', 'End Cellular Technology': '4g', 'Device Manufacturer': 'Google', 'OS Version': 'Android 12', 'State': 'MI', 'County': 'Oakland County', 'Average RSSI': -77.0, 'Average Signal Power': -103.0, 'Average Signal Level': 2.0, 'Average Signal Quality': -13.0, 'Average Signal Strength': -103.0, 'Average Cell Strength (ASU)': 38.0}\n",
      "{'_id': ObjectId('6673aeeb163fd6cef5baa253'), 'Total Bytes': 10976352.0, 'Bytes per Second': 2195241.0, 'Cross Traffic RX Avg (bps)': 167.0, 'Cross Traffic RX Peak (bps)': 1040.0, 'Cross Traffic TX Avg (bps)': 122.0, 'Cross Traffic TX Peak (bps)': 1080.0, 'Operator Name': 'Verizon', 'Beginning Cellular Technology': '4g', 'End Cellular Technology': '4g', 'Device Manufacturer': 'Google', 'OS Version': 'Android 11', 'State': 'IL', 'County': 'Cook County', 'Average RSSI': -66.0, 'Average Signal Power': -95.5, 'Average Signal Level': 2.5, 'Average Signal Quality': -13.5, 'Average Signal Strength': -95.5, 'Average Cell Strength (ASU)': 43.0}\n",
      "{'_id': ObjectId('6673aeeb163fd6cef5baa256'), 'Total Bytes': 194016.0, 'Bytes per Second': 38802.0, 'Cross Traffic RX Avg (bps)': 1808.0, 'Cross Traffic RX Peak (bps)': 16224.0, 'Cross Traffic TX Avg (bps)': 2496.0, 'Cross Traffic TX Peak (bps)': 12019.0, 'Operator Name': 'Verizon', 'Beginning Cellular Technology': '4g', 'End Cellular Technology': '4g', 'Device Manufacturer': 'Samsung', 'OS Version': 'Android 12', 'State': 'NY', 'County': 'Monroe County', 'Average RSSI': -81.0, 'Average Signal Power': -112.5, 'Average Signal Level': 1.0, 'Average Signal Quality': -16.0, 'Average Signal Strength': -112.5, 'Average Cell Strength (ASU)': 30.0}\n",
      "{'_id': ObjectId('6673aeeb163fd6cef5baa257'), 'Total Bytes': 16418080.0, 'Bytes per Second': 3283595.0, 'Cross Traffic RX Avg (bps)': 30891.0, 'Cross Traffic RX Peak (bps)': 251113.0, 'Cross Traffic TX Avg (bps)': 8471.0, 'Cross Traffic TX Peak (bps)': 21920.0, 'Operator Name': 'Verizon', 'Beginning Cellular Technology': '4g', 'End Cellular Technology': '4g', 'Device Manufacturer': 'Google', 'OS Version': 'Android 12', 'State': 'NY', 'County': 'Broome County', 'Average RSSI': -57.0, 'Average Signal Power': -88.0, 'Average Signal Level': 3.0, 'Average Signal Quality': -6.0, 'Average Signal Strength': -88.0, 'Average Cell Strength (ASU)': 54.5}\n",
      "{'_id': ObjectId('6673aeeb163fd6cef5baa25b'), 'Total Bytes': 17738016.0, 'Bytes per Second': 3547572.0, 'Cross Traffic RX Avg (bps)': 156.0, 'Cross Traffic RX Peak (bps)': 364.0, 'Cross Traffic TX Avg (bps)': 9384.0, 'Cross Traffic TX Peak (bps)': 52836.0, 'Operator Name': 'Verizon', 'Beginning Cellular Technology': '4g', 'End Cellular Technology': '4g', 'Device Manufacturer': 'Samsung', 'OS Version': 'Android 12', 'State': 'IL', 'County': 'Cook County', 'Average RSSI': -64.0, 'Average Signal Power': -95.5, 'Average Signal Level': 2.5, 'Average Signal Quality': -9.5, 'Average Signal Strength': -95.5, 'Average Cell Strength (ASU)': 44.5}\n",
      "{'_id': ObjectId('6673aeeb163fd6cef5baa25c'), 'Total Bytes': 11897221.0, 'Bytes per Second': 2379425.0, 'Cross Traffic RX Avg (bps)': 1600.0, 'Cross Traffic RX Peak (bps)': 5758.0, 'Cross Traffic TX Avg (bps)': 657.0, 'Cross Traffic TX Peak (bps)': 2454.0, 'Operator Name': 'Verizon', 'Beginning Cellular Technology': '4g', 'End Cellular Technology': '4g', 'Device Manufacturer': 'Motorola', 'OS Version': 'Android 10', 'State': 'OH', 'County': 'Franklin County', 'Average RSSI': -63.0, 'Average Signal Power': -96.0, 'Average Signal Level': 2.0, 'Average Signal Quality': -13.0, 'Average Signal Strength': -96.0, 'Average Cell Strength (ASU)': 53.0}\n",
      "{'_id': ObjectId('6673aeeb163fd6cef5baa25d'), 'Total Bytes': 2003456.0, 'Bytes per Second': 400688.0, 'Cross Traffic RX Avg (bps)': 40573.0, 'Cross Traffic RX Peak (bps)': 161615.0, 'Cross Traffic TX Avg (bps)': 19647.0, 'Cross Traffic TX Peak (bps)': 53397.0, 'Operator Name': 'Verizon', 'Beginning Cellular Technology': '4g', 'End Cellular Technology': '4g', 'Device Manufacturer': 'Samsung', 'OS Version': 'Android 12', 'State': 'TX', 'County': 'Brazoria County', 'Average RSSI': -69.0, 'Average Signal Power': -100.0, 'Average Signal Level': 2.0, 'Average Signal Quality': -13.0, 'Average Signal Strength': -100.0, 'Average Cell Strength (ASU)': 42.0}\n",
      "{'_id': ObjectId('6673aeeb163fd6cef5baa25e'), 'Total Bytes': 8646784.0, 'Bytes per Second': 1729335.0, 'Cross Traffic RX Avg (bps)': 1480.0, 'Cross Traffic RX Peak (bps)': 6083.0, 'Cross Traffic TX Avg (bps)': 3420.0, 'Cross Traffic TX Peak (bps)': 20990.0, 'Operator Name': 'Verizon', 'Beginning Cellular Technology': '4g', 'End Cellular Technology': '4g', 'Device Manufacturer': 'Google', 'OS Version': 'Android 12', 'State': 'MD', 'County': 'Anne Arundel County', 'Average RSSI': -73.0, 'Average Signal Power': -107.0, 'Average Signal Level': 1.0, 'Average Signal Quality': -14.0, 'Average Signal Strength': -107.0, 'Average Cell Strength (ASU)': 32.0}\n"
     ]
    },
    {
     "name": "stderr",
     "output_type": "stream",
     "text": [
      "IOPub data rate exceeded.\n",
      "The Jupyter server will temporarily stop sending output\n",
      "to the client in order to avoid crashing it.\n",
      "To change this limit, set the config variable\n",
      "`--ServerApp.iopub_data_rate_limit`.\n",
      "\n",
      "Current values:\n",
      "ServerApp.iopub_data_rate_limit=1000000.0 (bytes/sec)\n",
      "ServerApp.rate_limit_window=3.0 (secs)\n",
      "\n"
     ]
    }
   ],
   "source": [
    "query = {'Operator Name': 'Verizon'}\n",
    "results = cellular_data.find(query)\n",
    "for result in results:\n",
    "    print(result)"
   ]
  },
  {
   "cell_type": "code",
   "execution_count": 42,
   "id": "677ac5c5-4450-4398-95c9-f1e48fc7ca08",
   "metadata": {},
   "outputs": [
    {
     "name": "stdout",
     "output_type": "stream",
     "text": [
      "Number of documents in result: 68076\n"
     ]
    }
   ],
   "source": [
    "# Create a query that finds the customers who have a Toyota\n",
    "query = {'Operator Name': 'Verizon'}\n",
    "\n",
    "# Print the number of results\n",
    "print(\"Number of documents in result:\", cellular_data.count_documents(query))"
   ]
  },
  {
   "cell_type": "code",
   "execution_count": 43,
   "id": "41be90dc-7ebf-4ccc-ae24-cd7b1937a475",
   "metadata": {},
   "outputs": [
    {
     "name": "stdout",
     "output_type": "stream",
     "text": [
      "Number of documents in result: 34821\n"
     ]
    }
   ],
   "source": [
    "# Create a query that finds the customers who have a Toyota\n",
    "query = {'Operator Name': 'AT&T'}\n",
    "\n",
    "# Print the number of results\n",
    "print(\"Number of documents in result:\", cellular_data.count_documents(query))"
   ]
  },
  {
   "cell_type": "code",
   "execution_count": 44,
   "id": "d801eae0-999a-4db2-9347-782b526bdf87",
   "metadata": {},
   "outputs": [
    {
     "name": "stdout",
     "output_type": "stream",
     "text": [
      "Number of documents in result: 48201\n"
     ]
    }
   ],
   "source": [
    "# Create a query that finds the customers who have a Toyota\n",
    "query = {'Operator Name': 'T-Mobile'}\n",
    "\n",
    "# Print the number of results\n",
    "print(\"Number of documents in result:\", cellular_data.count_documents(query))"
   ]
  },
  {
   "cell_type": "code",
   "execution_count": 45,
   "id": "5fcd664b-536a-404e-9501-c12d0de5b27d",
   "metadata": {},
   "outputs": [
    {
     "data": {
      "text/plain": [
       "151098"
      ]
     },
     "execution_count": 45,
     "metadata": {},
     "output_type": "execute_result"
    }
   ],
   "source": [
    "cellular_data.count_documents({})"
   ]
  },
  {
   "cell_type": "code",
   "execution_count": 48,
   "id": "035181ca-b46b-4d92-89e9-b53597e6ae60",
   "metadata": {},
   "outputs": [
    {
     "data": {
      "text/html": [
       "<div>\n",
       "<style scoped>\n",
       "    .dataframe tbody tr th:only-of-type {\n",
       "        vertical-align: middle;\n",
       "    }\n",
       "\n",
       "    .dataframe tbody tr th {\n",
       "        vertical-align: top;\n",
       "    }\n",
       "\n",
       "    .dataframe thead th {\n",
       "        text-align: right;\n",
       "    }\n",
       "</style>\n",
       "<table border=\"1\" class=\"dataframe\">\n",
       "  <thead>\n",
       "    <tr style=\"text-align: right;\">\n",
       "      <th></th>\n",
       "      <th>_id</th>\n",
       "      <th>Total Bytes</th>\n",
       "      <th>Bytes per Second</th>\n",
       "      <th>Cross Traffic RX Avg (bps)</th>\n",
       "      <th>Cross Traffic RX Peak (bps)</th>\n",
       "      <th>Cross Traffic TX Avg (bps)</th>\n",
       "      <th>Cross Traffic TX Peak (bps)</th>\n",
       "      <th>Operator Name</th>\n",
       "      <th>Beginning Cellular Technology</th>\n",
       "      <th>End Cellular Technology</th>\n",
       "      <th>Device Manufacturer</th>\n",
       "      <th>OS Version</th>\n",
       "      <th>State</th>\n",
       "      <th>County</th>\n",
       "      <th>Average RSSI</th>\n",
       "      <th>Average Signal Power</th>\n",
       "      <th>Average Signal Level</th>\n",
       "      <th>Average Signal Quality</th>\n",
       "      <th>Average Signal Strength</th>\n",
       "      <th>Average Cell Strength (ASU)</th>\n",
       "    </tr>\n",
       "  </thead>\n",
       "  <tbody>\n",
       "    <tr>\n",
       "      <th>0</th>\n",
       "      <td>6673aeeb163fd6cef5baa144</td>\n",
       "      <td>2955648.0</td>\n",
       "      <td>591122.0</td>\n",
       "      <td>5.0</td>\n",
       "      <td>52.0</td>\n",
       "      <td>0.0</td>\n",
       "      <td>0.0</td>\n",
       "      <td>Verizon</td>\n",
       "      <td>4g</td>\n",
       "      <td>4g</td>\n",
       "      <td>Samsung</td>\n",
       "      <td>Android 12</td>\n",
       "      <td>ID</td>\n",
       "      <td>Latah County</td>\n",
       "      <td>-75.0</td>\n",
       "      <td>-106.0</td>\n",
       "      <td>1.0</td>\n",
       "      <td>-12.0</td>\n",
       "      <td>-106.0</td>\n",
       "      <td>33.0</td>\n",
       "    </tr>\n",
       "    <tr>\n",
       "      <th>1</th>\n",
       "      <td>6673aeeb163fd6cef5baa145</td>\n",
       "      <td>8048898.0</td>\n",
       "      <td>1609767.0</td>\n",
       "      <td>58.0</td>\n",
       "      <td>468.0</td>\n",
       "      <td>4474.0</td>\n",
       "      <td>35750.0</td>\n",
       "      <td>AT&amp;T</td>\n",
       "      <td>4g</td>\n",
       "      <td>4g</td>\n",
       "      <td>Samsung</td>\n",
       "      <td>Android 11</td>\n",
       "      <td>NJ</td>\n",
       "      <td>Ocean County</td>\n",
       "      <td>-72.0</td>\n",
       "      <td>-104.5</td>\n",
       "      <td>2.0</td>\n",
       "      <td>-12.0</td>\n",
       "      <td>-104.5</td>\n",
       "      <td>35.0</td>\n",
       "    </tr>\n",
       "    <tr>\n",
       "      <th>2</th>\n",
       "      <td>6673aeeb163fd6cef5baa146</td>\n",
       "      <td>417520.0</td>\n",
       "      <td>83497.0</td>\n",
       "      <td>14822.0</td>\n",
       "      <td>24830.0</td>\n",
       "      <td>201332.0</td>\n",
       "      <td>434832.0</td>\n",
       "      <td>Verizon</td>\n",
       "      <td>4g</td>\n",
       "      <td>4g</td>\n",
       "      <td>OnePlus</td>\n",
       "      <td>Android 11</td>\n",
       "      <td>MT</td>\n",
       "      <td>Dawson County</td>\n",
       "      <td>-77.0</td>\n",
       "      <td>-108.5</td>\n",
       "      <td>2.0</td>\n",
       "      <td>-11.0</td>\n",
       "      <td>-108.5</td>\n",
       "      <td>31.0</td>\n",
       "    </tr>\n",
       "    <tr>\n",
       "      <th>3</th>\n",
       "      <td>6673aeeb163fd6cef5baa147</td>\n",
       "      <td>1501948.0</td>\n",
       "      <td>300384.0</td>\n",
       "      <td>2186.0</td>\n",
       "      <td>11506.0</td>\n",
       "      <td>1227.0</td>\n",
       "      <td>3752.0</td>\n",
       "      <td>AT&amp;T</td>\n",
       "      <td>4g</td>\n",
       "      <td>4g</td>\n",
       "      <td>Samsung</td>\n",
       "      <td>Android 12</td>\n",
       "      <td>ID</td>\n",
       "      <td>Bingham County</td>\n",
       "      <td>-57.0</td>\n",
       "      <td>-91.0</td>\n",
       "      <td>3.0</td>\n",
       "      <td>-13.0</td>\n",
       "      <td>-91.0</td>\n",
       "      <td>40.5</td>\n",
       "    </tr>\n",
       "    <tr>\n",
       "      <th>4</th>\n",
       "      <td>6673aeeb163fd6cef5baa148</td>\n",
       "      <td>15182684.0</td>\n",
       "      <td>3036499.0</td>\n",
       "      <td>90.0</td>\n",
       "      <td>576.0</td>\n",
       "      <td>7898.0</td>\n",
       "      <td>63184.0</td>\n",
       "      <td>T-Mobile</td>\n",
       "      <td>4g</td>\n",
       "      <td>4g</td>\n",
       "      <td>Samsung</td>\n",
       "      <td>Android 12</td>\n",
       "      <td>CA</td>\n",
       "      <td>Los Angeles County</td>\n",
       "      <td>-61.0</td>\n",
       "      <td>-84.0</td>\n",
       "      <td>4.0</td>\n",
       "      <td>-10.0</td>\n",
       "      <td>-84.0</td>\n",
       "      <td>52.0</td>\n",
       "    </tr>\n",
       "  </tbody>\n",
       "</table>\n",
       "</div>"
      ],
      "text/plain": [
       "                        _id  Total Bytes  Bytes per Second  \\\n",
       "0  6673aeeb163fd6cef5baa144    2955648.0          591122.0   \n",
       "1  6673aeeb163fd6cef5baa145    8048898.0         1609767.0   \n",
       "2  6673aeeb163fd6cef5baa146     417520.0           83497.0   \n",
       "3  6673aeeb163fd6cef5baa147    1501948.0          300384.0   \n",
       "4  6673aeeb163fd6cef5baa148   15182684.0         3036499.0   \n",
       "\n",
       "   Cross Traffic RX Avg (bps)  Cross Traffic RX Peak (bps)  \\\n",
       "0                         5.0                         52.0   \n",
       "1                        58.0                        468.0   \n",
       "2                     14822.0                      24830.0   \n",
       "3                      2186.0                      11506.0   \n",
       "4                        90.0                        576.0   \n",
       "\n",
       "   Cross Traffic TX Avg (bps)  Cross Traffic TX Peak (bps) Operator Name  \\\n",
       "0                         0.0                          0.0       Verizon   \n",
       "1                      4474.0                      35750.0          AT&T   \n",
       "2                    201332.0                     434832.0       Verizon   \n",
       "3                      1227.0                       3752.0          AT&T   \n",
       "4                      7898.0                      63184.0      T-Mobile   \n",
       "\n",
       "  Beginning Cellular Technology End Cellular Technology Device Manufacturer  \\\n",
       "0                            4g                      4g             Samsung   \n",
       "1                            4g                      4g             Samsung   \n",
       "2                            4g                      4g             OnePlus   \n",
       "3                            4g                      4g             Samsung   \n",
       "4                            4g                      4g             Samsung   \n",
       "\n",
       "   OS Version State              County  Average RSSI  Average Signal Power  \\\n",
       "0  Android 12    ID        Latah County         -75.0                -106.0   \n",
       "1  Android 11    NJ        Ocean County         -72.0                -104.5   \n",
       "2  Android 11    MT       Dawson County         -77.0                -108.5   \n",
       "3  Android 12    ID      Bingham County         -57.0                 -91.0   \n",
       "4  Android 12    CA  Los Angeles County         -61.0                 -84.0   \n",
       "\n",
       "   Average Signal Level  Average Signal Quality  Average Signal Strength  \\\n",
       "0                   1.0                   -12.0                   -106.0   \n",
       "1                   2.0                   -12.0                   -104.5   \n",
       "2                   2.0                   -11.0                   -108.5   \n",
       "3                   3.0                   -13.0                    -91.0   \n",
       "4                   4.0                   -10.0                    -84.0   \n",
       "\n",
       "   Average Cell Strength (ASU)  \n",
       "0                         33.0  \n",
       "1                         35.0  \n",
       "2                         31.0  \n",
       "3                         40.5  \n",
       "4                         52.0  "
      ]
     },
     "execution_count": 48,
     "metadata": {},
     "output_type": "execute_result"
    }
   ],
   "source": [
    "collection = db['cellular_data']\n",
    "\n",
    "# Query data from MongoDB\n",
    "data = collection.find()\n",
    "\n",
    "# Convert the data to a pandas DataFrame\n",
    "df = pd.DataFrame(list(data))\n",
    "\n",
    "# Display the first few rows of the DataFrame\n",
    "df.head()"
   ]
  },
  {
   "cell_type": "code",
   "execution_count": null,
   "id": "bf41cec7-74a4-4b10-9f28-2904e63dfd53",
   "metadata": {},
   "outputs": [],
   "source": []
  },
  {
   "cell_type": "code",
   "execution_count": null,
   "id": "62a0e322-9ac6-468b-b997-03d2e25cf98f",
   "metadata": {},
   "outputs": [],
   "source": []
  }
 ],
 "metadata": {
  "kernelspec": {
   "display_name": "Python 3 (ipykernel)",
   "language": "python",
   "name": "python3"
  },
  "language_info": {
   "codemirror_mode": {
    "name": "ipython",
    "version": 3
   },
   "file_extension": ".py",
   "mimetype": "text/x-python",
   "name": "python",
   "nbconvert_exporter": "python",
   "pygments_lexer": "ipython3",
   "version": "3.11.7"
  }
 },
 "nbformat": 4,
 "nbformat_minor": 5
}
